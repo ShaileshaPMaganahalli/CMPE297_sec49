{
  "nbformat": 4,
  "nbformat_minor": 0,
  "metadata": {
    "colab": {
      "name": "Multi-Task Learning.ipynb",
      "provenance": [],
      "authorship_tag": "ABX9TyNfQQ0EAH5bq30/sle8SCXz",
      "include_colab_link": true
    },
    "kernelspec": {
      "name": "python3",
      "display_name": "Python 3"
    },
    "accelerator": "GPU"
  },
  "cells": [
    {
      "cell_type": "markdown",
      "metadata": {
        "id": "view-in-github",
        "colab_type": "text"
      },
      "source": [
        "<a href=\"https://colab.research.google.com/github/shreyus3003/CMPE297_sec49/blob/master/Assignment_4/Multi_Task_Learning.ipynb\" target=\"_parent\"><img src=\"https://colab.research.google.com/assets/colab-badge.svg\" alt=\"Open In Colab\"/></a>"
      ]
    },
    {
      "cell_type": "markdown",
      "metadata": {
        "id": "U5f4feVTp5BT"
      },
      "source": [
        "  # Multitask learning \n",
        "\n",
        "  In this eaxmple of multitask learning, we try to boost the siamese network.\n",
        "  the objects are compared in new embedding space, similar objects are to be close together and different objects apart. We are trying to embed the MNIST images in some vector space. These networks has 2 input layers and the weights are shared between the input layers. We shall see how adding an aditional loss to these layers will improve the accuracy."
      ]
    },
    {
      "cell_type": "code",
      "metadata": {
        "id": "lWvYUfxMfZC9"
      },
      "source": [
        "import numpy as np\n",
        "\n",
        "import random\n",
        "from keras.datasets import mnist\n",
        "from keras.models import Model\n",
        "from keras.layers import Input, Flatten, Dense, Dropout, Lambda\n",
        "from keras.optimizers import RMSprop\n",
        "from keras import backend as K\n",
        "from keras.utils import to_categorical\n",
        "\n",
        "num_classes = 10"
      ],
      "execution_count": 22,
      "outputs": []
    },
    {
      "cell_type": "code",
      "metadata": {
        "id": "wqYEi1KpfjG8"
      },
      "source": [
        "random.seed(42)\n",
        "np.random.seed(42)"
      ],
      "execution_count": 23,
      "outputs": []
    },
    {
      "cell_type": "markdown",
      "metadata": {
        "id": "b71-VrJYvAtW"
      },
      "source": [
        "## Define the loss function."
      ]
    },
    {
      "cell_type": "code",
      "metadata": {
        "id": "1GWLmD67fleE"
      },
      "source": [
        "def euclidean_distance(vects):\n",
        "    x, y = vects\n",
        "    sum_square = K.sum(K.square(x - y), axis=1, keepdims=True)\n",
        "    return K.sqrt(K.maximum(sum_square, K.epsilon()))\n",
        "\n",
        "\n",
        "def eucl_dist_output_shape(shapes):\n",
        "    shape1, shape2 = shapes\n",
        "    return (shape1[0], 1)\n",
        "\n",
        "\n",
        "def contrastive_loss(y_true, y_pred):\n",
        "  \n",
        "    margin = 1\n",
        "    sqaure_pred = K.square(y_pred)\n",
        "    margin_square = K.square(K.maximum(margin - y_pred, 0))\n",
        "    return K.mean(y_true * sqaure_pred + (1 - y_true) * margin_square)\n",
        "\n",
        "\n",
        "def create_pairs_multitask(x, digit_indices):\n",
        "   \n",
        "    pairs = []\n",
        "    labels = []\n",
        "    class_1, class_2 = [], []\n",
        "    n = min([len(digit_indices[d]) for d in range(num_classes)]) - 1\n",
        "    for d in range(num_classes):\n",
        "        for i in range(n):\n",
        "            z1, z2 = digit_indices[d][i], digit_indices[d][i + 1]\n",
        "            pairs += [[x[z1], x[z2]]] \n",
        "            inc = random.randrange(1, num_classes)\n",
        "            dn = (d + inc) % num_classes \n",
        "            z1, z2 = digit_indices[d][i], digit_indices[dn][i] \n",
        "            pairs += [[x[z1], x[z2]]] \n",
        "            labels += [1, 0] \n",
        "            class_1 += [d, d]\n",
        "            class_2 += [d, dn]\n",
        "    return np.array(pairs), np.array(labels), np.array(class_1), np.array(class_2)"
      ],
      "execution_count": 47,
      "outputs": []
    },
    {
      "cell_type": "markdown",
      "metadata": {
        "id": "wo18mVFCvK40"
      },
      "source": [
        "##Create a base network"
      ]
    },
    {
      "cell_type": "code",
      "metadata": {
        "id": "N8wy8xgSfoIq"
      },
      "source": [
        "def create_base_network(input_shape):\n",
        "    \n",
        "    print(input_shape)\n",
        "    input = Input(shape=input_shape)\n",
        "    print(input.dtype)\n",
        "    x = Flatten()(input)\n",
        "    x = Dense(64, activation='relu')(x)\n",
        "    x = Dropout(0.1)(x)\n",
        "    print(x.dtype)\n",
        "    return Model(input, x)\n",
        "\n",
        "\n",
        "def compute_accuracy(y_true, y_pred):\n",
        "    \n",
        "    pred = y_pred.ravel() < 0.5\n",
        "    return np.mean(pred == y_true)\n",
        "\n",
        "\n",
        "def accuracy(y_true, y_pred):\n",
        "    \n",
        "    return K.mean(K.equal(y_true, K.cast(y_pred < 0.5, y_true.dtype)))"
      ],
      "execution_count": 62,
      "outputs": []
    },
    {
      "cell_type": "markdown",
      "metadata": {
        "id": "6gNMDDaRvPEh"
      },
      "source": [
        "## Load the MNIST data "
      ]
    },
    {
      "cell_type": "code",
      "metadata": {
        "id": "GeooKc67fqiV"
      },
      "source": [
        "\n",
        "(x_train, y_train), (x_test, y_test) = mnist.load_data()\n",
        "x_train = x_train.astype(np.float32)\n",
        "x_test = x_test.astype(np.float32)\n",
        "x_train /= 255\n",
        "x_test /= 255\n",
        "input_shape = x_train.shape[1:]\n",
        "\n",
        "\n",
        "digit_indices = [np.where(y_train == i)[0] for i in range(num_classes)]\n",
        "tr_pairs, tr_y, tr_c1, tr_c2 = create_pairs_multitask(x_train, digit_indices)\n",
        "tr_y = tr_y.astype(np.float32)\n",
        "\n",
        "digit_indices = [np.where(y_test == i)[0] for i in range(num_classes)]\n",
        "te_pairs, te_y, te_c1, te_c2 = create_pairs_multitask(x_test, digit_indices)\n",
        "te_y = te_y.astype(np.float32)\n",
        "\n",
        "tr_c1, tr_c2 = to_categorical(tr_c1), to_categorical(tr_c2)\n",
        "te_c1, te_c2 = to_categorical(te_c1), to_categorical(te_c2)"
      ],
      "execution_count": 69,
      "outputs": []
    },
    {
      "cell_type": "markdown",
      "metadata": {
        "id": "e6PjlrGBvUd3"
      },
      "source": [
        "## Define a network without aditional loss "
      ]
    },
    {
      "cell_type": "code",
      "metadata": {
        "id": "ne2mpZhxsoxJ",
        "outputId": "a7749184-85ee-479d-ab32-ae27e9b79531",
        "colab": {
          "base_uri": "https://localhost:8080/"
        }
      },
      "source": [
        "base_network = create_base_network(input_shape)\n",
        "\n",
        "input_a = Input(shape=input_shape)\n",
        "input_b = Input(shape=input_shape)\n",
        "\n",
        "processed_a = base_network(input_a)\n",
        "processed_b = base_network(input_b)\n",
        "\n",
        "distance = Lambda(euclidean_distance,\n",
        "                  output_shape=eucl_dist_output_shape)([processed_a, processed_b])\n",
        "\n",
        "model = Model([input_a, input_b], distance)"
      ],
      "execution_count": 78,
      "outputs": [
        {
          "output_type": "stream",
          "text": [
            "(28, 28)\n",
            "<dtype: 'float32'>\n",
            "<dtype: 'float32'>\n"
          ],
          "name": "stdout"
        }
      ]
    },
    {
      "cell_type": "code",
      "metadata": {
        "id": "1Yo4jCeWsqkq",
        "outputId": "7014e56b-9394-4d4f-b172-5fd98647613f",
        "colab": {
          "base_uri": "https://localhost:8080/"
        }
      },
      "source": [
        "model.summary()"
      ],
      "execution_count": 79,
      "outputs": [
        {
          "output_type": "stream",
          "text": [
            "Model: \"functional_43\"\n",
            "__________________________________________________________________________________________________\n",
            "Layer (type)                    Output Shape         Param #     Connected to                     \n",
            "==================================================================================================\n",
            "input_34 (InputLayer)           [(None, 28, 28)]     0                                            \n",
            "__________________________________________________________________________________________________\n",
            "input_35 (InputLayer)           [(None, 28, 28)]     0                                            \n",
            "__________________________________________________________________________________________________\n",
            "functional_41 (Functional)      (None, 64)           50240       input_34[0][0]                   \n",
            "                                                                 input_35[0][0]                   \n",
            "__________________________________________________________________________________________________\n",
            "lambda_10 (Lambda)              (None, 1)            0           functional_41[0][0]              \n",
            "                                                                 functional_41[1][0]              \n",
            "==================================================================================================\n",
            "Total params: 50,240\n",
            "Trainable params: 50,240\n",
            "Non-trainable params: 0\n",
            "__________________________________________________________________________________________________\n"
          ],
          "name": "stdout"
        }
      ]
    },
    {
      "cell_type": "code",
      "metadata": {
        "id": "r3kRzrgEs2cn",
        "outputId": "66203995-35aa-4aac-ebcf-59e49c8768f1",
        "colab": {
          "base_uri": "https://localhost:8080/"
        }
      },
      "source": [
        "rms = RMSprop()\n",
        "model.compile(loss=contrastive_loss, optimizer=rms)\n",
        "model.fit([tr_pairs[:, 0], tr_pairs[:, 1]], tr_y,\n",
        "          batch_size=128,\n",
        "          epochs=10,\n",
        "          validation_data=([te_pairs[:, 0], te_pairs[:, 1]], te_y))"
      ],
      "execution_count": 80,
      "outputs": [
        {
          "output_type": "stream",
          "text": [
            "Epoch 1/10\n",
            "847/847 [==============================] - 3s 3ms/step - loss: 0.1819 - val_loss: 0.1239\n",
            "Epoch 2/10\n",
            "847/847 [==============================] - 2s 3ms/step - loss: 0.1512 - val_loss: 0.1117\n",
            "Epoch 3/10\n",
            "847/847 [==============================] - 2s 3ms/step - loss: 0.1466 - val_loss: 0.1040\n",
            "Epoch 4/10\n",
            "847/847 [==============================] - 2s 3ms/step - loss: 0.1458 - val_loss: 0.1070\n",
            "Epoch 5/10\n",
            "847/847 [==============================] - 2s 3ms/step - loss: 0.1446 - val_loss: 0.1007\n",
            "Epoch 6/10\n",
            "847/847 [==============================] - 2s 3ms/step - loss: 0.1439 - val_loss: 0.1053\n",
            "Epoch 7/10\n",
            "847/847 [==============================] - 2s 3ms/step - loss: 0.1434 - val_loss: 0.1034\n",
            "Epoch 8/10\n",
            "847/847 [==============================] - 2s 3ms/step - loss: 0.1432 - val_loss: 0.1029\n",
            "Epoch 9/10\n",
            "847/847 [==============================] - 2s 3ms/step - loss: 0.1425 - val_loss: 0.1099\n",
            "Epoch 10/10\n",
            "847/847 [==============================] - 2s 3ms/step - loss: 0.1429 - val_loss: 0.1096\n"
          ],
          "name": "stdout"
        },
        {
          "output_type": "execute_result",
          "data": {
            "text/plain": [
              "<tensorflow.python.keras.callbacks.History at 0x7f6318e0b240>"
            ]
          },
          "metadata": {
            "tags": []
          },
          "execution_count": 80
        }
      ]
    },
    {
      "cell_type": "code",
      "metadata": {
        "id": "bU4FmZ45svpR",
        "outputId": "4f99087a-bfca-4abd-d689-05000504aa5f",
        "colab": {
          "base_uri": "https://localhost:8080/"
        }
      },
      "source": [
        "y_pred = model.predict([tr_pairs[:, 0], tr_pairs[:, 1]])\n",
        "tr_acc = compute_accuracy(tr_y, y_pred)\n",
        "y_pred = model.predict([te_pairs[:, 0], te_pairs[:, 1]])\n",
        "te_acc = compute_accuracy(te_y, y_pred)\n",
        "\n",
        "print('* Accuracy on training set: %0.2f%%' % (100 * tr_acc))\n",
        "print('* Accuracy on test set: %0.2f%%' % (100 * te_acc))"
      ],
      "execution_count": 81,
      "outputs": [
        {
          "output_type": "stream",
          "text": [
            "* Accuracy on training set: 87.06%\n",
            "* Accuracy on test set: 86.98%\n"
          ],
          "name": "stdout"
        }
      ]
    },
    {
      "cell_type": "markdown",
      "metadata": {
        "id": "tVYZB_f4vi9A"
      },
      "source": [
        "## Define the network with additional loss. multitasking "
      ]
    },
    {
      "cell_type": "code",
      "metadata": {
        "id": "GofAHiu0fwcK",
        "outputId": "6558e4f9-06fd-45c5-e859-abf66f6bb0e6",
        "colab": {
          "base_uri": "https://localhost:8080/"
        }
      },
      "source": [
        "base_network = create_base_network(input_shape)\n",
        "\n",
        "input_a = Input(shape=input_shape)\n",
        "input_b = Input(shape=input_shape)\n",
        "\n",
        "processed_a = base_network(input_a)\n",
        "processed_b = base_network(input_b)\n",
        "\n",
        "distance = Lambda(euclidean_distance,\n",
        "                  output_shape=eucl_dist_output_shape)([processed_a, processed_b])\n",
        "\n",
        "class_1_out = Dense(num_classes, activation = 'softmax')(processed_a)\n",
        "class_2_out = Dense(num_classes, activation = 'softmax')(processed_b)\n",
        "\n",
        "model = Model([input_a, input_b], [distance, class_1_out, class_2_out])"
      ],
      "execution_count": 71,
      "outputs": [
        {
          "output_type": "stream",
          "text": [
            "(28, 28)\n",
            "<dtype: 'float32'>\n",
            "<dtype: 'float32'>\n"
          ],
          "name": "stdout"
        }
      ]
    },
    {
      "cell_type": "code",
      "metadata": {
        "id": "gF9HtqqOf1E0",
        "outputId": "f23d0c82-ce52-4bf9-fdff-a3ff4464d124",
        "colab": {
          "base_uri": "https://localhost:8080/"
        }
      },
      "source": [
        "model.summary()"
      ],
      "execution_count": 77,
      "outputs": [
        {
          "output_type": "stream",
          "text": [
            "Model: \"functional_39\"\n",
            "__________________________________________________________________________________________________\n",
            "Layer (type)                    Output Shape         Param #     Connected to                     \n",
            "==================================================================================================\n",
            "input_31 (InputLayer)           [(None, 28, 28)]     0                                            \n",
            "__________________________________________________________________________________________________\n",
            "input_32 (InputLayer)           [(None, 28, 28)]     0                                            \n",
            "__________________________________________________________________________________________________\n",
            "functional_37 (Functional)      (None, 64)           50240       input_31[0][0]                   \n",
            "                                                                 input_32[0][0]                   \n",
            "__________________________________________________________________________________________________\n",
            "lambda_9 (Lambda)               (None, 1)            0           functional_37[0][0]              \n",
            "                                                                 functional_37[1][0]              \n",
            "__________________________________________________________________________________________________\n",
            "dense_16 (Dense)                (None, 10)           650         functional_37[0][0]              \n",
            "__________________________________________________________________________________________________\n",
            "dense_17 (Dense)                (None, 10)           650         functional_37[1][0]              \n",
            "==================================================================================================\n",
            "Total params: 51,540\n",
            "Trainable params: 51,540\n",
            "Non-trainable params: 0\n",
            "__________________________________________________________________________________________________\n"
          ],
          "name": "stdout"
        }
      ]
    },
    {
      "cell_type": "code",
      "metadata": {
        "id": "-8Fck84Ff6KR",
        "outputId": "c9dad7f5-a1a4-43de-eb0b-7453ea741772",
        "colab": {
          "base_uri": "https://localhost:8080/"
        }
      },
      "source": [
        "rms = RMSprop()\n",
        "model.compile(loss=contrastive_loss, optimizer=rms)\n",
        "hist = model.fit([tr_pairs[:, 0], tr_pairs[:, 1]], [tr_y, tr_c1, tr_c2],\n",
        "          batch_size=128,\n",
        "          epochs=10,\n",
        "          validation_data=([te_pairs[:, 0], te_pairs[:, 1]], [te_y, te_c1, te_c2]))"
      ],
      "execution_count": 72,
      "outputs": [
        {
          "output_type": "stream",
          "text": [
            "Epoch 1/10\n",
            "847/847 [==============================] - 5s 6ms/step - loss: 1.6374 - lambda_9_loss: 0.1859 - dense_16_loss: 0.7259 - dense_17_loss: 0.7257 - val_loss: 1.5755 - val_lambda_9_loss: 0.1303 - val_dense_16_loss: 0.7227 - val_dense_17_loss: 0.7225\n",
            "Epoch 2/10\n",
            "847/847 [==============================] - 4s 5ms/step - loss: 1.5929 - lambda_9_loss: 0.1516 - dense_16_loss: 0.7207 - dense_17_loss: 0.7205 - val_loss: 1.5480 - val_lambda_9_loss: 0.1107 - val_dense_16_loss: 0.7187 - val_dense_17_loss: 0.7186\n",
            "Epoch 3/10\n",
            "847/847 [==============================] - 4s 5ms/step - loss: 1.5855 - lambda_9_loss: 0.1482 - dense_16_loss: 0.7187 - dense_17_loss: 0.7186 - val_loss: 1.5378 - val_lambda_9_loss: 0.1037 - val_dense_16_loss: 0.7171 - val_dense_17_loss: 0.7170\n",
            "Epoch 4/10\n",
            "847/847 [==============================] - 4s 5ms/step - loss: 1.5813 - lambda_9_loss: 0.1457 - dense_16_loss: 0.7178 - dense_17_loss: 0.7177 - val_loss: 1.5387 - val_lambda_9_loss: 0.1061 - val_dense_16_loss: 0.7163 - val_dense_17_loss: 0.7163\n",
            "Epoch 5/10\n",
            "847/847 [==============================] - 4s 5ms/step - loss: 1.5803 - lambda_9_loss: 0.1456 - dense_16_loss: 0.7173 - dense_17_loss: 0.7173 - val_loss: 1.5344 - val_lambda_9_loss: 0.1024 - val_dense_16_loss: 0.7160 - val_dense_17_loss: 0.7160\n",
            "Epoch 6/10\n",
            "847/847 [==============================] - 4s 5ms/step - loss: 1.5789 - lambda_9_loss: 0.1448 - dense_16_loss: 0.7170 - dense_17_loss: 0.7170 - val_loss: 1.5349 - val_lambda_9_loss: 0.1036 - val_dense_16_loss: 0.7157 - val_dense_17_loss: 0.7157\n",
            "Epoch 7/10\n",
            "847/847 [==============================] - 4s 5ms/step - loss: 1.5778 - lambda_9_loss: 0.1440 - dense_16_loss: 0.7169 - dense_17_loss: 0.7169 - val_loss: 1.5350 - val_lambda_9_loss: 0.1040 - val_dense_16_loss: 0.7155 - val_dense_17_loss: 0.7155\n",
            "Epoch 8/10\n",
            "847/847 [==============================] - 5s 5ms/step - loss: 1.5778 - lambda_9_loss: 0.1442 - dense_16_loss: 0.7169 - dense_17_loss: 0.7168 - val_loss: 1.5351 - val_lambda_9_loss: 0.1046 - val_dense_16_loss: 0.7153 - val_dense_17_loss: 0.7152\n",
            "Epoch 9/10\n",
            "847/847 [==============================] - 5s 5ms/step - loss: 1.5777 - lambda_9_loss: 0.1442 - dense_16_loss: 0.7168 - dense_17_loss: 0.7167 - val_loss: 1.5349 - val_lambda_9_loss: 0.1035 - val_dense_16_loss: 0.7157 - val_dense_17_loss: 0.7157\n",
            "Epoch 10/10\n",
            "847/847 [==============================] - 5s 5ms/step - loss: 1.5765 - lambda_9_loss: 0.1431 - dense_16_loss: 0.7167 - dense_17_loss: 0.7167 - val_loss: 1.5334 - val_lambda_9_loss: 0.1027 - val_dense_16_loss: 0.7154 - val_dense_17_loss: 0.7154\n"
          ],
          "name": "stdout"
        }
      ]
    },
    {
      "cell_type": "code",
      "metadata": {
        "id": "OWu-i144lKEO",
        "outputId": "30fb0366-3cac-4feb-a5ed-b5ba276b790d",
        "colab": {
          "base_uri": "https://localhost:8080/"
        }
      },
      "source": [
        "\n",
        "y_pred = model.predict([tr_pairs[:, 0], tr_pairs[:, 1]])[0]\n",
        "tr_acc = compute_accuracy(tr_y, y_pred)\n",
        "y_pred = model.predict([te_pairs[:, 0], te_pairs[:, 1]])[0]\n",
        "te_acc = compute_accuracy(te_y, y_pred)\n",
        "\n",
        "print('* Accuracy on training set: %0.2f%%' % (100 * tr_acc))\n",
        "print('* Accuracy on test set: %0.2f%%' % (100 * te_acc))"
      ],
      "execution_count": 73,
      "outputs": [
        {
          "output_type": "stream",
          "text": [
            "* Accuracy on training set: 87.54%\n",
            "* Accuracy on test set: 87.42%\n"
          ],
          "name": "stdout"
        }
      ]
    },
    {
      "cell_type": "markdown",
      "metadata": {
        "id": "e7j0Q7fKv38K"
      },
      "source": [
        "When we compare the accuracy, we see that the network with additional loss gives good accuracy. "
      ]
    },
    {
      "cell_type": "code",
      "metadata": {
        "id": "iLEM0x0pplXH"
      },
      "source": [
        "import pylab\n",
        "%matplotlib inline\n"
      ],
      "execution_count": 75,
      "outputs": []
    },
    {
      "cell_type": "code",
      "metadata": {
        "id": "fkQH4QvtpgKD",
        "outputId": "9a372bf6-274c-462b-af6a-f5f0241cbbd0",
        "colab": {
          "base_uri": "https://localhost:8080/",
          "height": 285
        }
      },
      "source": [
        "pylab.plot(hist.history['loss'])"
      ],
      "execution_count": 76,
      "outputs": [
        {
          "output_type": "execute_result",
          "data": {
            "text/plain": [
              "[<matplotlib.lines.Line2D at 0x7f63210516d8>]"
            ]
          },
          "metadata": {
            "tags": []
          },
          "execution_count": 76
        },
        {
          "output_type": "display_data",
          "data": {
            "image/png": "[encoded data removed]",
            "text/plain": [
              "<Figure size 432x288 with 1 Axes>"
            ]
          },
          "metadata": {
            "tags": [],
            "needs_background": "light"
          }
        }
      ]
    }
  ]
}