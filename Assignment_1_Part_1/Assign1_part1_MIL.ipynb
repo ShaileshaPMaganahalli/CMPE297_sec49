{
  "nbformat": 4,
  "nbformat_minor": 0,
  "metadata": {
    "colab": {
      "name": "Assign1_part1_MIL.ipynb",
      "provenance": [],
      "authorship_tag": "ABX9TyO4AvhEE6HdKGU0IU5okL1Q",
      "include_colab_link": true
    },
    "kernelspec": {
      "name": "python3",
      "display_name": "Python 3"
    },
    "accelerator": "GPU",
    "widgets": {
      "application/vnd.jupyter.widget-state+json": {
        "b1fefec10cad4f13a0ed77dbffd9b9b8": {
          "model_module": "@jupyter-widgets/controls",
          "model_name": "HBoxModel",
          "state": {
            "_view_name": "HBoxView",
            "_dom_classes": [],
            "_model_name": "HBoxModel",
            "_view_module": "@jupyter-widgets/controls",
            "_model_module_version": "1.5.0",
            "_view_count": null,
            "_view_module_version": "1.5.0",
            "box_style": "",
            "layout": "IPY_MODEL_27c75c48177343909157980cce1e9153",
            "_model_module": "@jupyter-widgets/controls",
            "children": [
              "IPY_MODEL_48879c204d674cce956e7de64a668a3a",
              "IPY_MODEL_2829eb1d319f4449adfe951555fa0e45"
            ]
          }
        },
        "27c75c48177343909157980cce1e9153": {
          "model_module": "@jupyter-widgets/base",
          "model_name": "LayoutModel",
          "state": {
            "_view_name": "LayoutView",
            "grid_template_rows": null,
            "right": null,
            "justify_content": null,
            "_view_module": "@jupyter-widgets/base",
            "overflow": null,
            "_model_module_version": "1.2.0",
            "_view_count": null,
            "flex_flow": null,
            "width": null,
            "min_width": null,
            "border": null,
            "align_items": null,
            "bottom": null,
            "_model_module": "@jupyter-widgets/base",
            "top": null,
            "grid_column": null,
            "overflow_y": null,
            "overflow_x": null,
            "grid_auto_flow": null,
            "grid_area": null,
            "grid_template_columns": null,
            "flex": null,
            "_model_name": "LayoutModel",
            "justify_items": null,
            "grid_row": null,
            "max_height": null,
            "align_content": null,
            "visibility": null,
            "align_self": null,
            "height": null,
            "min_height": null,
            "padding": null,
            "grid_auto_rows": null,
            "grid_gap": null,
            "max_width": null,
            "order": null,
            "_view_module_version": "1.2.0",
            "grid_template_areas": null,
            "object_position": null,
            "object_fit": null,
            "grid_auto_columns": null,
            "margin": null,
            "display": null,
            "left": null
          }
        },
        "48879c204d674cce956e7de64a668a3a": {
          "model_module": "@jupyter-widgets/controls",
          "model_name": "FloatProgressModel",
          "state": {
            "_view_name": "ProgressView",
            "style": "IPY_MODEL_206a9a8eacc44199a58a5c4b6cfec57d",
            "_dom_classes": [],
            "description": "Loss: 1.9146: 100%",
            "_model_name": "FloatProgressModel",
            "bar_style": "success",
            "max": 59,
            "_view_module": "@jupyter-widgets/controls",
            "_model_module_version": "1.5.0",
            "value": 59,
            "_view_count": null,
            "_view_module_version": "1.5.0",
            "orientation": "horizontal",
            "min": 0,
            "description_tooltip": null,
            "_model_module": "@jupyter-widgets/controls",
            "layout": "IPY_MODEL_32948b8915384aedb07e031586a35d1b"
          }
        },
        "2829eb1d319f4449adfe951555fa0e45": {
          "model_module": "@jupyter-widgets/controls",
          "model_name": "HTMLModel",
          "state": {
            "_view_name": "HTMLView",
            "style": "IPY_MODEL_498d591c0dc74f6381c80c28f0e9777a",
            "_dom_classes": [],
            "description": "",
            "_model_name": "HTMLModel",
            "placeholder": "​",
            "_view_module": "@jupyter-widgets/controls",
            "_model_module_version": "1.5.0",
            "value": " 59/59 [01:24&lt;00:00,  1.43s/it]",
            "_view_count": null,
            "_view_module_version": "1.5.0",
            "description_tooltip": null,
            "_model_module": "@jupyter-widgets/controls",
            "layout": "IPY_MODEL_2bf321f6fd6f41d2b51abd205b017d98"
          }
        },
        "206a9a8eacc44199a58a5c4b6cfec57d": {
          "model_module": "@jupyter-widgets/controls",
          "model_name": "ProgressStyleModel",
          "state": {
            "_view_name": "StyleView",
            "_model_name": "ProgressStyleModel",
            "description_width": "initial",
            "_view_module": "@jupyter-widgets/base",
            "_model_module_version": "1.5.0",
            "_view_count": null,
            "_view_module_version": "1.2.0",
            "bar_color": null,
            "_model_module": "@jupyter-widgets/controls"
          }
        },
        "32948b8915384aedb07e031586a35d1b": {
          "model_module": "@jupyter-widgets/base",
          "model_name": "LayoutModel",
          "state": {
            "_view_name": "LayoutView",
            "grid_template_rows": null,
            "right": null,
            "justify_content": null,
            "_view_module": "@jupyter-widgets/base",
            "overflow": null,
            "_model_module_version": "1.2.0",
            "_view_count": null,
            "flex_flow": null,
            "width": null,
            "min_width": null,
            "border": null,
            "align_items": null,
            "bottom": null,
            "_model_module": "@jupyter-widgets/base",
            "top": null,
            "grid_column": null,
            "overflow_y": null,
            "overflow_x": null,
            "grid_auto_flow": null,
            "grid_area": null,
            "grid_template_columns": null,
            "flex": null,
            "_model_name": "LayoutModel",
            "justify_items": null,
            "grid_row": null,
            "max_height": null,
            "align_content": null,
            "visibility": null,
            "align_self": null,
            "height": null,
            "min_height": null,
            "padding": null,
            "grid_auto_rows": null,
            "grid_gap": null,
            "max_width": null,
            "order": null,
            "_view_module_version": "1.2.0",
            "grid_template_areas": null,
            "object_position": null,
            "object_fit": null,
            "grid_auto_columns": null,
            "margin": null,
            "display": null,
            "left": null
          }
        },
        "498d591c0dc74f6381c80c28f0e9777a": {
          "model_module": "@jupyter-widgets/controls",
          "model_name": "DescriptionStyleModel",
          "state": {
            "_view_name": "StyleView",
            "_model_name": "DescriptionStyleModel",
            "description_width": "",
            "_view_module": "@jupyter-widgets/base",
            "_model_module_version": "1.5.0",
            "_view_count": null,
            "_view_module_version": "1.2.0",
            "_model_module": "@jupyter-widgets/controls"
          }
        },
        "2bf321f6fd6f41d2b51abd205b017d98": {
          "model_module": "@jupyter-widgets/base",
          "model_name": "LayoutModel",
          "state": {
            "_view_name": "LayoutView",
            "grid_template_rows": null,
            "right": null,
            "justify_content": null,
            "_view_module": "@jupyter-widgets/base",
            "overflow": null,
            "_model_module_version": "1.2.0",
            "_view_count": null,
            "flex_flow": null,
            "width": null,
            "min_width": null,
            "border": null,
            "align_items": null,
            "bottom": null,
            "_model_module": "@jupyter-widgets/base",
            "top": null,
            "grid_column": null,
            "overflow_y": null,
            "overflow_x": null,
            "grid_auto_flow": null,
            "grid_area": null,
            "grid_template_columns": null,
            "flex": null,
            "_model_name": "LayoutModel",
            "justify_items": null,
            "grid_row": null,
            "max_height": null,
            "align_content": null,
            "visibility": null,
            "align_self": null,
            "height": null,
            "min_height": null,
            "padding": null,
            "grid_auto_rows": null,
            "grid_gap": null,
            "max_width": null,
            "order": null,
            "_view_module_version": "1.2.0",
            "grid_template_areas": null,
            "object_position": null,
            "object_fit": null,
            "grid_auto_columns": null,
            "margin": null,
            "display": null,
            "left": null
          }
        },
        "0316fb6df2e3408c8a70859929c3c31d": {
          "model_module": "@jupyter-widgets/controls",
          "model_name": "HBoxModel",
          "state": {
            "_view_name": "HBoxView",
            "_dom_classes": [],
            "_model_name": "HBoxModel",
            "_view_module": "@jupyter-widgets/controls",
            "_model_module_version": "1.5.0",
            "_view_count": null,
            "_view_module_version": "1.5.0",
            "box_style": "",
            "layout": "IPY_MODEL_f9a8b17a10e0446d968fbe7dd6821816",
            "_model_module": "@jupyter-widgets/controls",
            "children": [
              "IPY_MODEL_63e34a3c20c34dd5a0f5875ee4c54d2c",
              "IPY_MODEL_1997dbda51194474a2e18a71f42a82e4"
            ]
          }
        },
        "f9a8b17a10e0446d968fbe7dd6821816": {
          "model_module": "@jupyter-widgets/base",
          "model_name": "LayoutModel",
          "state": {
            "_view_name": "LayoutView",
            "grid_template_rows": null,
            "right": null,
            "justify_content": null,
            "_view_module": "@jupyter-widgets/base",
            "overflow": null,
            "_model_module_version": "1.2.0",
            "_view_count": null,
            "flex_flow": null,
            "width": null,
            "min_width": null,
            "border": null,
            "align_items": null,
            "bottom": null,
            "_model_module": "@jupyter-widgets/base",
            "top": null,
            "grid_column": null,
            "overflow_y": null,
            "overflow_x": null,
            "grid_auto_flow": null,
            "grid_area": null,
            "grid_template_columns": null,
            "flex": null,
            "_model_name": "LayoutModel",
            "justify_items": null,
            "grid_row": null,
            "max_height": null,
            "align_content": null,
            "visibility": null,
            "align_self": null,
            "height": null,
            "min_height": null,
            "padding": null,
            "grid_auto_rows": null,
            "grid_gap": null,
            "max_width": null,
            "order": null,
            "_view_module_version": "1.2.0",
            "grid_template_areas": null,
            "object_position": null,
            "object_fit": null,
            "grid_auto_columns": null,
            "margin": null,
            "display": null,
            "left": null
          }
        },
        "63e34a3c20c34dd5a0f5875ee4c54d2c": {
          "model_module": "@jupyter-widgets/controls",
          "model_name": "FloatProgressModel",
          "state": {
            "_view_name": "ProgressView",
            "style": "IPY_MODEL_faec188c4f644ad89af0edc76205193b",
            "_dom_classes": [],
            "description": "Loss: 1.5666: 100%",
            "_model_name": "FloatProgressModel",
            "bar_style": "success",
            "max": 59,
            "_view_module": "@jupyter-widgets/controls",
            "_model_module_version": "1.5.0",
            "value": 59,
            "_view_count": null,
            "_view_module_version": "1.5.0",
            "orientation": "horizontal",
            "min": 0,
            "description_tooltip": null,
            "_model_module": "@jupyter-widgets/controls",
            "layout": "IPY_MODEL_bbba0fe8b42c421ca0c82e196a1869dc"
          }
        },
        "1997dbda51194474a2e18a71f42a82e4": {
          "model_module": "@jupyter-widgets/controls",
          "model_name": "HTMLModel",
          "state": {
            "_view_name": "HTMLView",
            "style": "IPY_MODEL_c4cb98c1c5ce4f50813ceb6a5e2a9895",
            "_dom_classes": [],
            "description": "",
            "_model_name": "HTMLModel",
            "placeholder": "​",
            "_view_module": "@jupyter-widgets/controls",
            "_model_module_version": "1.5.0",
            "value": " 59/59 [01:24&lt;00:00,  1.43s/it]",
            "_view_count": null,
            "_view_module_version": "1.5.0",
            "description_tooltip": null,
            "_model_module": "@jupyter-widgets/controls",
            "layout": "IPY_MODEL_67e4ca20dc8041ea91a511608519deb5"
          }
        },
        "faec188c4f644ad89af0edc76205193b": {
          "model_module": "@jupyter-widgets/controls",
          "model_name": "ProgressStyleModel",
          "state": {
            "_view_name": "StyleView",
            "_model_name": "ProgressStyleModel",
            "description_width": "initial",
            "_view_module": "@jupyter-widgets/base",
            "_model_module_version": "1.5.0",
            "_view_count": null,
            "_view_module_version": "1.2.0",
            "bar_color": null,
            "_model_module": "@jupyter-widgets/controls"
          }
        },
        "bbba0fe8b42c421ca0c82e196a1869dc": {
          "model_module": "@jupyter-widgets/base",
          "model_name": "LayoutModel",
          "state": {
            "_view_name": "LayoutView",
            "grid_template_rows": null,
            "right": null,
            "justify_content": null,
            "_view_module": "@jupyter-widgets/base",
            "overflow": null,
            "_model_module_version": "1.2.0",
            "_view_count": null,
            "flex_flow": null,
            "width": null,
            "min_width": null,
            "border": null,
            "align_items": null,
            "bottom": null,
            "_model_module": "@jupyter-widgets/base",
            "top": null,
            "grid_column": null,
            "overflow_y": null,
            "overflow_x": null,
            "grid_auto_flow": null,
            "grid_area": null,
            "grid_template_columns": null,
            "flex": null,
            "_model_name": "LayoutModel",
            "justify_items": null,
            "grid_row": null,
            "max_height": null,
            "align_content": null,
            "visibility": null,
            "align_self": null,
            "height": null,
            "min_height": null,
            "padding": null,
            "grid_auto_rows": null,
            "grid_gap": null,
            "max_width": null,
            "order": null,
            "_view_module_version": "1.2.0",
            "grid_template_areas": null,
            "object_position": null,
            "object_fit": null,
            "grid_auto_columns": null,
            "margin": null,
            "display": null,
            "left": null
          }
        },
        "c4cb98c1c5ce4f50813ceb6a5e2a9895": {
          "model_module": "@jupyter-widgets/controls",
          "model_name": "DescriptionStyleModel",
          "state": {
            "_view_name": "StyleView",
            "_model_name": "DescriptionStyleModel",
            "description_width": "",
            "_view_module": "@jupyter-widgets/base",
            "_model_module_version": "1.5.0",
            "_view_count": null,
            "_view_module_version": "1.2.0",
            "_model_module": "@jupyter-widgets/controls"
          }
        },
        "67e4ca20dc8041ea91a511608519deb5": {
          "model_module": "@jupyter-widgets/base",
          "model_name": "LayoutModel",
          "state": {
            "_view_name": "LayoutView",
            "grid_template_rows": null,
            "right": null,
            "justify_content": null,
            "_view_module": "@jupyter-widgets/base",
            "overflow": null,
            "_model_module_version": "1.2.0",
            "_view_count": null,
            "flex_flow": null,
            "width": null,
            "min_width": null,
            "border": null,
            "align_items": null,
            "bottom": null,
            "_model_module": "@jupyter-widgets/base",
            "top": null,
            "grid_column": null,
            "overflow_y": null,
            "overflow_x": null,
            "grid_auto_flow": null,
            "grid_area": null,
            "grid_template_columns": null,
            "flex": null,
            "_model_name": "LayoutModel",
            "justify_items": null,
            "grid_row": null,
            "max_height": null,
            "align_content": null,
            "visibility": null,
            "align_self": null,
            "height": null,
            "min_height": null,
            "padding": null,
            "grid_auto_rows": null,
            "grid_gap": null,
            "max_width": null,
            "order": null,
            "_view_module_version": "1.2.0",
            "grid_template_areas": null,
            "object_position": null,
            "object_fit": null,
            "grid_auto_columns": null,
            "margin": null,
            "display": null,
            "left": null
          }
        },
        "58727b40da2b47d0b9052863b7878fd9": {
          "model_module": "@jupyter-widgets/controls",
          "model_name": "HBoxModel",
          "state": {
            "_view_name": "HBoxView",
            "_dom_classes": [],
            "_model_name": "HBoxModel",
            "_view_module": "@jupyter-widgets/controls",
            "_model_module_version": "1.5.0",
            "_view_count": null,
            "_view_module_version": "1.5.0",
            "box_style": "",
            "layout": "IPY_MODEL_557379d730064919a239c59f3a02f8c9",
            "_model_module": "@jupyter-widgets/controls",
            "children": [
              "IPY_MODEL_a8744e9975054f9cb886765f9af3a55f",
              "IPY_MODEL_399e3537394e45329298f3081d85586d"
            ]
          }
        },
        "557379d730064919a239c59f3a02f8c9": {
          "model_module": "@jupyter-widgets/base",
          "model_name": "LayoutModel",
          "state": {
            "_view_name": "LayoutView",
            "grid_template_rows": null,
            "right": null,
            "justify_content": null,
            "_view_module": "@jupyter-widgets/base",
            "overflow": null,
            "_model_module_version": "1.2.0",
            "_view_count": null,
            "flex_flow": null,
            "width": null,
            "min_width": null,
            "border": null,
            "align_items": null,
            "bottom": null,
            "_model_module": "@jupyter-widgets/base",
            "top": null,
            "grid_column": null,
            "overflow_y": null,
            "overflow_x": null,
            "grid_auto_flow": null,
            "grid_area": null,
            "grid_template_columns": null,
            "flex": null,
            "_model_name": "LayoutModel",
            "justify_items": null,
            "grid_row": null,
            "max_height": null,
            "align_content": null,
            "visibility": null,
            "align_self": null,
            "height": null,
            "min_height": null,
            "padding": null,
            "grid_auto_rows": null,
            "grid_gap": null,
            "max_width": null,
            "order": null,
            "_view_module_version": "1.2.0",
            "grid_template_areas": null,
            "object_position": null,
            "object_fit": null,
            "grid_auto_columns": null,
            "margin": null,
            "display": null,
            "left": null
          }
        },
        "a8744e9975054f9cb886765f9af3a55f": {
          "model_module": "@jupyter-widgets/controls",
          "model_name": "FloatProgressModel",
          "state": {
            "_view_name": "ProgressView",
            "style": "IPY_MODEL_2d9c6ad0234f4c76ad51dd8e40b9402f",
            "_dom_classes": [],
            "description": "Loss: 1.4908: 100%",
            "_model_name": "FloatProgressModel",
            "bar_style": "success",
            "max": 59,
            "_view_module": "@jupyter-widgets/controls",
            "_model_module_version": "1.5.0",
            "value": 59,
            "_view_count": null,
            "_view_module_version": "1.5.0",
            "orientation": "horizontal",
            "min": 0,
            "description_tooltip": null,
            "_model_module": "@jupyter-widgets/controls",
            "layout": "IPY_MODEL_6973a0c8b5634cc196487b685f42c51b"
          }
        },
        "399e3537394e45329298f3081d85586d": {
          "model_module": "@jupyter-widgets/controls",
          "model_name": "HTMLModel",
          "state": {
            "_view_name": "HTMLView",
            "style": "IPY_MODEL_954e2f24a3b94d4fbca9f4fe68f94143",
            "_dom_classes": [],
            "description": "",
            "_model_name": "HTMLModel",
            "placeholder": "​",
            "_view_module": "@jupyter-widgets/controls",
            "_model_module_version": "1.5.0",
            "value": " 59/59 [01:24&lt;00:00,  1.43s/it]",
            "_view_count": null,
            "_view_module_version": "1.5.0",
            "description_tooltip": null,
            "_model_module": "@jupyter-widgets/controls",
            "layout": "IPY_MODEL_ccd740fc28414ec98410d14dfefd75e1"
          }
        },
        "2d9c6ad0234f4c76ad51dd8e40b9402f": {
          "model_module": "@jupyter-widgets/controls",
          "model_name": "ProgressStyleModel",
          "state": {
            "_view_name": "StyleView",
            "_model_name": "ProgressStyleModel",
            "description_width": "initial",
            "_view_module": "@jupyter-widgets/base",
            "_model_module_version": "1.5.0",
            "_view_count": null,
            "_view_module_version": "1.2.0",
            "bar_color": null,
            "_model_module": "@jupyter-widgets/controls"
          }
        },
        "6973a0c8b5634cc196487b685f42c51b": {
          "model_module": "@jupyter-widgets/base",
          "model_name": "LayoutModel",
          "state": {
            "_view_name": "LayoutView",
            "grid_template_rows": null,
            "right": null,
            "justify_content": null,
            "_view_module": "@jupyter-widgets/base",
            "overflow": null,
            "_model_module_version": "1.2.0",
            "_view_count": null,
            "flex_flow": null,
            "width": null,
            "min_width": null,
            "border": null,
            "align_items": null,
            "bottom": null,
            "_model_module": "@jupyter-widgets/base",
            "top": null,
            "grid_column": null,
            "overflow_y": null,
            "overflow_x": null,
            "grid_auto_flow": null,
            "grid_area": null,
            "grid_template_columns": null,
            "flex": null,
            "_model_name": "LayoutModel",
            "justify_items": null,
            "grid_row": null,
            "max_height": null,
            "align_content": null,
            "visibility": null,
            "align_self": null,
            "height": null,
            "min_height": null,
            "padding": null,
            "grid_auto_rows": null,
            "grid_gap": null,
            "max_width": null,
            "order": null,
            "_view_module_version": "1.2.0",
            "grid_template_areas": null,
            "object_position": null,
            "object_fit": null,
            "grid_auto_columns": null,
            "margin": null,
            "display": null,
            "left": null
          }
        },
        "954e2f24a3b94d4fbca9f4fe68f94143": {
          "model_module": "@jupyter-widgets/controls",
          "model_name": "DescriptionStyleModel",
          "state": {
            "_view_name": "StyleView",
            "_model_name": "DescriptionStyleModel",
            "description_width": "",
            "_view_module": "@jupyter-widgets/base",
            "_model_module_version": "1.5.0",
            "_view_count": null,
            "_view_module_version": "1.2.0",
            "_model_module": "@jupyter-widgets/controls"
          }
        },
        "ccd740fc28414ec98410d14dfefd75e1": {
          "model_module": "@jupyter-widgets/base",
          "model_name": "LayoutModel",
          "state": {
            "_view_name": "LayoutView",
            "grid_template_rows": null,
            "right": null,
            "justify_content": null,
            "_view_module": "@jupyter-widgets/base",
            "overflow": null,
            "_model_module_version": "1.2.0",
            "_view_count": null,
            "flex_flow": null,
            "width": null,
            "min_width": null,
            "border": null,
            "align_items": null,
            "bottom": null,
            "_model_module": "@jupyter-widgets/base",
            "top": null,
            "grid_column": null,
            "overflow_y": null,
            "overflow_x": null,
            "grid_auto_flow": null,
            "grid_area": null,
            "grid_template_columns": null,
            "flex": null,
            "_model_name": "LayoutModel",
            "justify_items": null,
            "grid_row": null,
            "max_height": null,
            "align_content": null,
            "visibility": null,
            "align_self": null,
            "height": null,
            "min_height": null,
            "padding": null,
            "grid_auto_rows": null,
            "grid_gap": null,
            "max_width": null,
            "order": null,
            "_view_module_version": "1.2.0",
            "grid_template_areas": null,
            "object_position": null,
            "object_fit": null,
            "grid_auto_columns": null,
            "margin": null,
            "display": null,
            "left": null
          }
        },
        "825396a309d6458a9b1ed4307c48ba0a": {
          "model_module": "@jupyter-widgets/controls",
          "model_name": "HBoxModel",
          "state": {
            "_view_name": "HBoxView",
            "_dom_classes": [],
            "_model_name": "HBoxModel",
            "_view_module": "@jupyter-widgets/controls",
            "_model_module_version": "1.5.0",
            "_view_count": null,
            "_view_module_version": "1.5.0",
            "box_style": "",
            "layout": "IPY_MODEL_25eff6aa4cdd45028e103ab23c6ac2ce",
            "_model_module": "@jupyter-widgets/controls",
            "children": [
              "IPY_MODEL_79c7186498c14affacd3ce3f3ff8aa1f",
              "IPY_MODEL_18804f04b70442f094690e2d663afa79"
            ]
          }
        },
        "25eff6aa4cdd45028e103ab23c6ac2ce": {
          "model_module": "@jupyter-widgets/base",
          "model_name": "LayoutModel",
          "state": {
            "_view_name": "LayoutView",
            "grid_template_rows": null,
            "right": null,
            "justify_content": null,
            "_view_module": "@jupyter-widgets/base",
            "overflow": null,
            "_model_module_version": "1.2.0",
            "_view_count": null,
            "flex_flow": null,
            "width": null,
            "min_width": null,
            "border": null,
            "align_items": null,
            "bottom": null,
            "_model_module": "@jupyter-widgets/base",
            "top": null,
            "grid_column": null,
            "overflow_y": null,
            "overflow_x": null,
            "grid_auto_flow": null,
            "grid_area": null,
            "grid_template_columns": null,
            "flex": null,
            "_model_name": "LayoutModel",
            "justify_items": null,
            "grid_row": null,
            "max_height": null,
            "align_content": null,
            "visibility": null,
            "align_self": null,
            "height": null,
            "min_height": null,
            "padding": null,
            "grid_auto_rows": null,
            "grid_gap": null,
            "max_width": null,
            "order": null,
            "_view_module_version": "1.2.0",
            "grid_template_areas": null,
            "object_position": null,
            "object_fit": null,
            "grid_auto_columns": null,
            "margin": null,
            "display": null,
            "left": null
          }
        },
        "79c7186498c14affacd3ce3f3ff8aa1f": {
          "model_module": "@jupyter-widgets/controls",
          "model_name": "FloatProgressModel",
          "state": {
            "_view_name": "ProgressView",
            "style": "IPY_MODEL_8f6aa2297db7418f9d183367cfb3ca4a",
            "_dom_classes": [],
            "description": "Loss: 1.4792: 100%",
            "_model_name": "FloatProgressModel",
            "bar_style": "success",
            "max": 59,
            "_view_module": "@jupyter-widgets/controls",
            "_model_module_version": "1.5.0",
            "value": 59,
            "_view_count": null,
            "_view_module_version": "1.5.0",
            "orientation": "horizontal",
            "min": 0,
            "description_tooltip": null,
            "_model_module": "@jupyter-widgets/controls",
            "layout": "IPY_MODEL_774d2569175148c88277a9e1dd8ba74c"
          }
        },
        "18804f04b70442f094690e2d663afa79": {
          "model_module": "@jupyter-widgets/controls",
          "model_name": "HTMLModel",
          "state": {
            "_view_name": "HTMLView",
            "style": "IPY_MODEL_017567992cdd411f83d08a98a12f9b1c",
            "_dom_classes": [],
            "description": "",
            "_model_name": "HTMLModel",
            "placeholder": "​",
            "_view_module": "@jupyter-widgets/controls",
            "_model_module_version": "1.5.0",
            "value": " 59/59 [01:33&lt;00:00,  1.59s/it]",
            "_view_count": null,
            "_view_module_version": "1.5.0",
            "description_tooltip": null,
            "_model_module": "@jupyter-widgets/controls",
            "layout": "IPY_MODEL_e66205784719451fa734357af8d9c350"
          }
        },
        "8f6aa2297db7418f9d183367cfb3ca4a": {
          "model_module": "@jupyter-widgets/controls",
          "model_name": "ProgressStyleModel",
          "state": {
            "_view_name": "StyleView",
            "_model_name": "ProgressStyleModel",
            "description_width": "initial",
            "_view_module": "@jupyter-widgets/base",
            "_model_module_version": "1.5.0",
            "_view_count": null,
            "_view_module_version": "1.2.0",
            "bar_color": null,
            "_model_module": "@jupyter-widgets/controls"
          }
        },
        "774d2569175148c88277a9e1dd8ba74c": {
          "model_module": "@jupyter-widgets/base",
          "model_name": "LayoutModel",
          "state": {
            "_view_name": "LayoutView",
            "grid_template_rows": null,
            "right": null,
            "justify_content": null,
            "_view_module": "@jupyter-widgets/base",
            "overflow": null,
            "_model_module_version": "1.2.0",
            "_view_count": null,
            "flex_flow": null,
            "width": null,
            "min_width": null,
            "border": null,
            "align_items": null,
            "bottom": null,
            "_model_module": "@jupyter-widgets/base",
            "top": null,
            "grid_column": null,
            "overflow_y": null,
            "overflow_x": null,
            "grid_auto_flow": null,
            "grid_area": null,
            "grid_template_columns": null,
            "flex": null,
            "_model_name": "LayoutModel",
            "justify_items": null,
            "grid_row": null,
            "max_height": null,
            "align_content": null,
            "visibility": null,
            "align_self": null,
            "height": null,
            "min_height": null,
            "padding": null,
            "grid_auto_rows": null,
            "grid_gap": null,
            "max_width": null,
            "order": null,
            "_view_module_version": "1.2.0",
            "grid_template_areas": null,
            "object_position": null,
            "object_fit": null,
            "grid_auto_columns": null,
            "margin": null,
            "display": null,
            "left": null
          }
        },
        "017567992cdd411f83d08a98a12f9b1c": {
          "model_module": "@jupyter-widgets/controls",
          "model_name": "DescriptionStyleModel",
          "state": {
            "_view_name": "StyleView",
            "_model_name": "DescriptionStyleModel",
            "description_width": "",
            "_view_module": "@jupyter-widgets/base",
            "_model_module_version": "1.5.0",
            "_view_count": null,
            "_view_module_version": "1.2.0",
            "_model_module": "@jupyter-widgets/controls"
          }
        },
        "e66205784719451fa734357af8d9c350": {
          "model_module": "@jupyter-widgets/base",
          "model_name": "LayoutModel",
          "state": {
            "_view_name": "LayoutView",
            "grid_template_rows": null,
            "right": null,
            "justify_content": null,
            "_view_module": "@jupyter-widgets/base",
            "overflow": null,
            "_model_module_version": "1.2.0",
            "_view_count": null,
            "flex_flow": null,
            "width": null,
            "min_width": null,
            "border": null,
            "align_items": null,
            "bottom": null,
            "_model_module": "@jupyter-widgets/base",
            "top": null,
            "grid_column": null,
            "overflow_y": null,
            "overflow_x": null,
            "grid_auto_flow": null,
            "grid_area": null,
            "grid_template_columns": null,
            "flex": null,
            "_model_name": "LayoutModel",
            "justify_items": null,
            "grid_row": null,
            "max_height": null,
            "align_content": null,
            "visibility": null,
            "align_self": null,
            "height": null,
            "min_height": null,
            "padding": null,
            "grid_auto_rows": null,
            "grid_gap": null,
            "max_width": null,
            "order": null,
            "_view_module_version": "1.2.0",
            "grid_template_areas": null,
            "object_position": null,
            "object_fit": null,
            "grid_auto_columns": null,
            "margin": null,
            "display": null,
            "left": null
          }
        },
        "f437cbfebe8a480ea05b49f46b2bebaa": {
          "model_module": "@jupyter-widgets/controls",
          "model_name": "HBoxModel",
          "state": {
            "_view_name": "HBoxView",
            "_dom_classes": [],
            "_model_name": "HBoxModel",
            "_view_module": "@jupyter-widgets/controls",
            "_model_module_version": "1.5.0",
            "_view_count": null,
            "_view_module_version": "1.5.0",
            "box_style": "",
            "layout": "IPY_MODEL_3e69860d7d9347a1a4054f5961e8ba71",
            "_model_module": "@jupyter-widgets/controls",
            "children": [
              "IPY_MODEL_528b8c717954490e82b638869bb6ee14",
              "IPY_MODEL_0ea4a1b4d384412e864cfcefb6930742"
            ]
          }
        },
        "3e69860d7d9347a1a4054f5961e8ba71": {
          "model_module": "@jupyter-widgets/base",
          "model_name": "LayoutModel",
          "state": {
            "_view_name": "LayoutView",
            "grid_template_rows": null,
            "right": null,
            "justify_content": null,
            "_view_module": "@jupyter-widgets/base",
            "overflow": null,
            "_model_module_version": "1.2.0",
            "_view_count": null,
            "flex_flow": null,
            "width": null,
            "min_width": null,
            "border": null,
            "align_items": null,
            "bottom": null,
            "_model_module": "@jupyter-widgets/base",
            "top": null,
            "grid_column": null,
            "overflow_y": null,
            "overflow_x": null,
            "grid_auto_flow": null,
            "grid_area": null,
            "grid_template_columns": null,
            "flex": null,
            "_model_name": "LayoutModel",
            "justify_items": null,
            "grid_row": null,
            "max_height": null,
            "align_content": null,
            "visibility": null,
            "align_self": null,
            "height": null,
            "min_height": null,
            "padding": null,
            "grid_auto_rows": null,
            "grid_gap": null,
            "max_width": null,
            "order": null,
            "_view_module_version": "1.2.0",
            "grid_template_areas": null,
            "object_position": null,
            "object_fit": null,
            "grid_auto_columns": null,
            "margin": null,
            "display": null,
            "left": null
          }
        },
        "528b8c717954490e82b638869bb6ee14": {
          "model_module": "@jupyter-widgets/controls",
          "model_name": "FloatProgressModel",
          "state": {
            "_view_name": "ProgressView",
            "style": "IPY_MODEL_62cdd6770feb4529ba3f4f4df11d82a6",
            "_dom_classes": [],
            "description": "Loss: 1.4746: 100%",
            "_model_name": "FloatProgressModel",
            "bar_style": "success",
            "max": 59,
            "_view_module": "@jupyter-widgets/controls",
            "_model_module_version": "1.5.0",
            "value": 59,
            "_view_count": null,
            "_view_module_version": "1.5.0",
            "orientation": "horizontal",
            "min": 0,
            "description_tooltip": null,
            "_model_module": "@jupyter-widgets/controls",
            "layout": "IPY_MODEL_628a0a18eea142759a975f3709f8f413"
          }
        },
        "0ea4a1b4d384412e864cfcefb6930742": {
          "model_module": "@jupyter-widgets/controls",
          "model_name": "HTMLModel",
          "state": {
            "_view_name": "HTMLView",
            "style": "IPY_MODEL_918f6f647cea42479110c035c0c41d3a",
            "_dom_classes": [],
            "description": "",
            "_model_name": "HTMLModel",
            "placeholder": "​",
            "_view_module": "@jupyter-widgets/controls",
            "_model_module_version": "1.5.0",
            "value": " 59/59 [01:24&lt;00:00,  1.43s/it]",
            "_view_count": null,
            "_view_module_version": "1.5.0",
            "description_tooltip": null,
            "_model_module": "@jupyter-widgets/controls",
            "layout": "IPY_MODEL_9b4eeae83f3248d0a7e56cfadd375211"
          }
        },
        "62cdd6770feb4529ba3f4f4df11d82a6": {
          "model_module": "@jupyter-widgets/controls",
          "model_name": "ProgressStyleModel",
          "state": {
            "_view_name": "StyleView",
            "_model_name": "ProgressStyleModel",
            "description_width": "initial",
            "_view_module": "@jupyter-widgets/base",
            "_model_module_version": "1.5.0",
            "_view_count": null,
            "_view_module_version": "1.2.0",
            "bar_color": null,
            "_model_module": "@jupyter-widgets/controls"
          }
        },
        "628a0a18eea142759a975f3709f8f413": {
          "model_module": "@jupyter-widgets/base",
          "model_name": "LayoutModel",
          "state": {
            "_view_name": "LayoutView",
            "grid_template_rows": null,
            "right": null,
            "justify_content": null,
            "_view_module": "@jupyter-widgets/base",
            "overflow": null,
            "_model_module_version": "1.2.0",
            "_view_count": null,
            "flex_flow": null,
            "width": null,
            "min_width": null,
            "border": null,
            "align_items": null,
            "bottom": null,
            "_model_module": "@jupyter-widgets/base",
            "top": null,
            "grid_column": null,
            "overflow_y": null,
            "overflow_x": null,
            "grid_auto_flow": null,
            "grid_area": null,
            "grid_template_columns": null,
            "flex": null,
            "_model_name": "LayoutModel",
            "justify_items": null,
            "grid_row": null,
            "max_height": null,
            "align_content": null,
            "visibility": null,
            "align_self": null,
            "height": null,
            "min_height": null,
            "padding": null,
            "grid_auto_rows": null,
            "grid_gap": null,
            "max_width": null,
            "order": null,
            "_view_module_version": "1.2.0",
            "grid_template_areas": null,
            "object_position": null,
            "object_fit": null,
            "grid_auto_columns": null,
            "margin": null,
            "display": null,
            "left": null
          }
        },
        "918f6f647cea42479110c035c0c41d3a": {
          "model_module": "@jupyter-widgets/controls",
          "model_name": "DescriptionStyleModel",
          "state": {
            "_view_name": "StyleView",
            "_model_name": "DescriptionStyleModel",
            "description_width": "",
            "_view_module": "@jupyter-widgets/base",
            "_model_module_version": "1.5.0",
            "_view_count": null,
            "_view_module_version": "1.2.0",
            "_model_module": "@jupyter-widgets/controls"
          }
        },
        "9b4eeae83f3248d0a7e56cfadd375211": {
          "model_module": "@jupyter-widgets/base",
          "model_name": "LayoutModel",
          "state": {
            "_view_name": "LayoutView",
            "grid_template_rows": null,
            "right": null,
            "justify_content": null,
            "_view_module": "@jupyter-widgets/base",
            "overflow": null,
            "_model_module_version": "1.2.0",
            "_view_count": null,
            "flex_flow": null,
            "width": null,
            "min_width": null,
            "border": null,
            "align_items": null,
            "bottom": null,
            "_model_module": "@jupyter-widgets/base",
            "top": null,
            "grid_column": null,
            "overflow_y": null,
            "overflow_x": null,
            "grid_auto_flow": null,
            "grid_area": null,
            "grid_template_columns": null,
            "flex": null,
            "_model_name": "LayoutModel",
            "justify_items": null,
            "grid_row": null,
            "max_height": null,
            "align_content": null,
            "visibility": null,
            "align_self": null,
            "height": null,
            "min_height": null,
            "padding": null,
            "grid_auto_rows": null,
            "grid_gap": null,
            "max_width": null,
            "order": null,
            "_view_module_version": "1.2.0",
            "grid_template_areas": null,
            "object_position": null,
            "object_fit": null,
            "grid_auto_columns": null,
            "margin": null,
            "display": null,
            "left": null
          }
        },
        "bc487d1868374c8a970d34da44e96435": {
          "model_module": "@jupyter-widgets/controls",
          "model_name": "HBoxModel",
          "state": {
            "_view_name": "HBoxView",
            "_dom_classes": [],
            "_model_name": "HBoxModel",
            "_view_module": "@jupyter-widgets/controls",
            "_model_module_version": "1.5.0",
            "_view_count": null,
            "_view_module_version": "1.5.0",
            "box_style": "",
            "layout": "IPY_MODEL_1a6bc95cc7674331b3bb70b9015eb5da",
            "_model_module": "@jupyter-widgets/controls",
            "children": [
              "IPY_MODEL_c99c61fb66ee4532b0f5ecc25b8ddf51",
              "IPY_MODEL_df64b6835adf40acb866fc20bc282e83"
            ]
          }
        },
        "1a6bc95cc7674331b3bb70b9015eb5da": {
          "model_module": "@jupyter-widgets/base",
          "model_name": "LayoutModel",
          "state": {
            "_view_name": "LayoutView",
            "grid_template_rows": null,
            "right": null,
            "justify_content": null,
            "_view_module": "@jupyter-widgets/base",
            "overflow": null,
            "_model_module_version": "1.2.0",
            "_view_count": null,
            "flex_flow": null,
            "width": null,
            "min_width": null,
            "border": null,
            "align_items": null,
            "bottom": null,
            "_model_module": "@jupyter-widgets/base",
            "top": null,
            "grid_column": null,
            "overflow_y": null,
            "overflow_x": null,
            "grid_auto_flow": null,
            "grid_area": null,
            "grid_template_columns": null,
            "flex": null,
            "_model_name": "LayoutModel",
            "justify_items": null,
            "grid_row": null,
            "max_height": null,
            "align_content": null,
            "visibility": null,
            "align_self": null,
            "height": null,
            "min_height": null,
            "padding": null,
            "grid_auto_rows": null,
            "grid_gap": null,
            "max_width": null,
            "order": null,
            "_view_module_version": "1.2.0",
            "grid_template_areas": null,
            "object_position": null,
            "object_fit": null,
            "grid_auto_columns": null,
            "margin": null,
            "display": null,
            "left": null
          }
        },
        "c99c61fb66ee4532b0f5ecc25b8ddf51": {
          "model_module": "@jupyter-widgets/controls",
          "model_name": "FloatProgressModel",
          "state": {
            "_view_name": "ProgressView",
            "style": "IPY_MODEL_f71ea899ef454d31aafc02942ddcc6f5",
            "_dom_classes": [],
            "description": "Loss: 1.4708: 100%",
            "_model_name": "FloatProgressModel",
            "bar_style": "success",
            "max": 59,
            "_view_module": "@jupyter-widgets/controls",
            "_model_module_version": "1.5.0",
            "value": 59,
            "_view_count": null,
            "_view_module_version": "1.5.0",
            "orientation": "horizontal",
            "min": 0,
            "description_tooltip": null,
            "_model_module": "@jupyter-widgets/controls",
            "layout": "IPY_MODEL_75489581f57547f59c33ffe1a746457c"
          }
        },
        "df64b6835adf40acb866fc20bc282e83": {
          "model_module": "@jupyter-widgets/controls",
          "model_name": "HTMLModel",
          "state": {
            "_view_name": "HTMLView",
            "style": "IPY_MODEL_60d1216bc7be40e49ddc87afa3052117",
            "_dom_classes": [],
            "description": "",
            "_model_name": "HTMLModel",
            "placeholder": "​",
            "_view_module": "@jupyter-widgets/controls",
            "_model_module_version": "1.5.0",
            "value": " 59/59 [01:24&lt;00:00,  1.43s/it]",
            "_view_count": null,
            "_view_module_version": "1.5.0",
            "description_tooltip": null,
            "_model_module": "@jupyter-widgets/controls",
            "layout": "IPY_MODEL_e6ce47fddb434f978515782b0947c5c8"
          }
        },
        "f71ea899ef454d31aafc02942ddcc6f5": {
          "model_module": "@jupyter-widgets/controls",
          "model_name": "ProgressStyleModel",
          "state": {
            "_view_name": "StyleView",
            "_model_name": "ProgressStyleModel",
            "description_width": "initial",
            "_view_module": "@jupyter-widgets/base",
            "_model_module_version": "1.5.0",
            "_view_count": null,
            "_view_module_version": "1.2.0",
            "bar_color": null,
            "_model_module": "@jupyter-widgets/controls"
          }
        },
        "75489581f57547f59c33ffe1a746457c": {
          "model_module": "@jupyter-widgets/base",
          "model_name": "LayoutModel",
          "state": {
            "_view_name": "LayoutView",
            "grid_template_rows": null,
            "right": null,
            "justify_content": null,
            "_view_module": "@jupyter-widgets/base",
            "overflow": null,
            "_model_module_version": "1.2.0",
            "_view_count": null,
            "flex_flow": null,
            "width": null,
            "min_width": null,
            "border": null,
            "align_items": null,
            "bottom": null,
            "_model_module": "@jupyter-widgets/base",
            "top": null,
            "grid_column": null,
            "overflow_y": null,
            "overflow_x": null,
            "grid_auto_flow": null,
            "grid_area": null,
            "grid_template_columns": null,
            "flex": null,
            "_model_name": "LayoutModel",
            "justify_items": null,
            "grid_row": null,
            "max_height": null,
            "align_content": null,
            "visibility": null,
            "align_self": null,
            "height": null,
            "min_height": null,
            "padding": null,
            "grid_auto_rows": null,
            "grid_gap": null,
            "max_width": null,
            "order": null,
            "_view_module_version": "1.2.0",
            "grid_template_areas": null,
            "object_position": null,
            "object_fit": null,
            "grid_auto_columns": null,
            "margin": null,
            "display": null,
            "left": null
          }
        },
        "60d1216bc7be40e49ddc87afa3052117": {
          "model_module": "@jupyter-widgets/controls",
          "model_name": "DescriptionStyleModel",
          "state": {
            "_view_name": "StyleView",
            "_model_name": "DescriptionStyleModel",
            "description_width": "",
            "_view_module": "@jupyter-widgets/base",
            "_model_module_version": "1.5.0",
            "_view_count": null,
            "_view_module_version": "1.2.0",
            "_model_module": "@jupyter-widgets/controls"
          }
        },
        "e6ce47fddb434f978515782b0947c5c8": {
          "model_module": "@jupyter-widgets/base",
          "model_name": "LayoutModel",
          "state": {
            "_view_name": "LayoutView",
            "grid_template_rows": null,
            "right": null,
            "justify_content": null,
            "_view_module": "@jupyter-widgets/base",
            "overflow": null,
            "_model_module_version": "1.2.0",
            "_view_count": null,
            "flex_flow": null,
            "width": null,
            "min_width": null,
            "border": null,
            "align_items": null,
            "bottom": null,
            "_model_module": "@jupyter-widgets/base",
            "top": null,
            "grid_column": null,
            "overflow_y": null,
            "overflow_x": null,
            "grid_auto_flow": null,
            "grid_area": null,
            "grid_template_columns": null,
            "flex": null,
            "_model_name": "LayoutModel",
            "justify_items": null,
            "grid_row": null,
            "max_height": null,
            "align_content": null,
            "visibility": null,
            "align_self": null,
            "height": null,
            "min_height": null,
            "padding": null,
            "grid_auto_rows": null,
            "grid_gap": null,
            "max_width": null,
            "order": null,
            "_view_module_version": "1.2.0",
            "grid_template_areas": null,
            "object_position": null,
            "object_fit": null,
            "grid_auto_columns": null,
            "margin": null,
            "display": null,
            "left": null
          }
        },
        "8ab5ab45631449608212dfaeca640a55": {
          "model_module": "@jupyter-widgets/controls",
          "model_name": "HBoxModel",
          "state": {
            "_view_name": "HBoxView",
            "_dom_classes": [],
            "_model_name": "HBoxModel",
            "_view_module": "@jupyter-widgets/controls",
            "_model_module_version": "1.5.0",
            "_view_count": null,
            "_view_module_version": "1.5.0",
            "box_style": "",
            "layout": "IPY_MODEL_da67d3ccbfdd40cc8743f9d9998faa7e",
            "_model_module": "@jupyter-widgets/controls",
            "children": [
              "IPY_MODEL_8cf11aea6ae345e5a11ea0658b8f2e72",
              "IPY_MODEL_c044bcf89da44dec8f6d1b6beb0aa3ff"
            ]
          }
        },
        "da67d3ccbfdd40cc8743f9d9998faa7e": {
          "model_module": "@jupyter-widgets/base",
          "model_name": "LayoutModel",
          "state": {
            "_view_name": "LayoutView",
            "grid_template_rows": null,
            "right": null,
            "justify_content": null,
            "_view_module": "@jupyter-widgets/base",
            "overflow": null,
            "_model_module_version": "1.2.0",
            "_view_count": null,
            "flex_flow": null,
            "width": null,
            "min_width": null,
            "border": null,
            "align_items": null,
            "bottom": null,
            "_model_module": "@jupyter-widgets/base",
            "top": null,
            "grid_column": null,
            "overflow_y": null,
            "overflow_x": null,
            "grid_auto_flow": null,
            "grid_area": null,
            "grid_template_columns": null,
            "flex": null,
            "_model_name": "LayoutModel",
            "justify_items": null,
            "grid_row": null,
            "max_height": null,
            "align_content": null,
            "visibility": null,
            "align_self": null,
            "height": null,
            "min_height": null,
            "padding": null,
            "grid_auto_rows": null,
            "grid_gap": null,
            "max_width": null,
            "order": null,
            "_view_module_version": "1.2.0",
            "grid_template_areas": null,
            "object_position": null,
            "object_fit": null,
            "grid_auto_columns": null,
            "margin": null,
            "display": null,
            "left": null
          }
        },
        "8cf11aea6ae345e5a11ea0658b8f2e72": {
          "model_module": "@jupyter-widgets/controls",
          "model_name": "FloatProgressModel",
          "state": {
            "_view_name": "ProgressView",
            "style": "IPY_MODEL_ec3a459f4b094e7fb79ae59fdb34b535",
            "_dom_classes": [],
            "description": "Loss:  93%",
            "_model_name": "FloatProgressModel",
            "bar_style": "danger",
            "max": 15000,
            "_view_module": "@jupyter-widgets/controls",
            "_model_module_version": "1.5.0",
            "value": 14001,
            "_view_count": null,
            "_view_module_version": "1.5.0",
            "orientation": "horizontal",
            "min": 0,
            "description_tooltip": null,
            "_model_module": "@jupyter-widgets/controls",
            "layout": "IPY_MODEL_ca69b29ae7ec4a22a9f780194fe30d07"
          }
        },
        "c044bcf89da44dec8f6d1b6beb0aa3ff": {
          "model_module": "@jupyter-widgets/controls",
          "model_name": "HTMLModel",
          "state": {
            "_view_name": "HTMLView",
            "style": "IPY_MODEL_a0a9c1c70a0041ad8a975ad38d6b6b3a",
            "_dom_classes": [],
            "description": "",
            "_model_name": "HTMLModel",
            "placeholder": "​",
            "_view_module": "@jupyter-widgets/controls",
            "_model_module_version": "1.5.0",
            "value": " 14001/15000 [24:05&lt;01:53,  8.79it/s]",
            "_view_count": null,
            "_view_module_version": "1.5.0",
            "description_tooltip": null,
            "_model_module": "@jupyter-widgets/controls",
            "layout": "IPY_MODEL_c177b3e0e86f47b0b695313b417a7647"
          }
        },
        "ec3a459f4b094e7fb79ae59fdb34b535": {
          "model_module": "@jupyter-widgets/controls",
          "model_name": "ProgressStyleModel",
          "state": {
            "_view_name": "StyleView",
            "_model_name": "ProgressStyleModel",
            "description_width": "initial",
            "_view_module": "@jupyter-widgets/base",
            "_model_module_version": "1.5.0",
            "_view_count": null,
            "_view_module_version": "1.2.0",
            "bar_color": null,
            "_model_module": "@jupyter-widgets/controls"
          }
        },
        "ca69b29ae7ec4a22a9f780194fe30d07": {
          "model_module": "@jupyter-widgets/base",
          "model_name": "LayoutModel",
          "state": {
            "_view_name": "LayoutView",
            "grid_template_rows": null,
            "right": null,
            "justify_content": null,
            "_view_module": "@jupyter-widgets/base",
            "overflow": null,
            "_model_module_version": "1.2.0",
            "_view_count": null,
            "flex_flow": null,
            "width": null,
            "min_width": null,
            "border": null,
            "align_items": null,
            "bottom": null,
            "_model_module": "@jupyter-widgets/base",
            "top": null,
            "grid_column": null,
            "overflow_y": null,
            "overflow_x": null,
            "grid_auto_flow": null,
            "grid_area": null,
            "grid_template_columns": null,
            "flex": null,
            "_model_name": "LayoutModel",
            "justify_items": null,
            "grid_row": null,
            "max_height": null,
            "align_content": null,
            "visibility": null,
            "align_self": null,
            "height": null,
            "min_height": null,
            "padding": null,
            "grid_auto_rows": null,
            "grid_gap": null,
            "max_width": null,
            "order": null,
            "_view_module_version": "1.2.0",
            "grid_template_areas": null,
            "object_position": null,
            "object_fit": null,
            "grid_auto_columns": null,
            "margin": null,
            "display": null,
            "left": null
          }
        },
        "a0a9c1c70a0041ad8a975ad38d6b6b3a": {
          "model_module": "@jupyter-widgets/controls",
          "model_name": "DescriptionStyleModel",
          "state": {
            "_view_name": "StyleView",
            "_model_name": "DescriptionStyleModel",
            "description_width": "",
            "_view_module": "@jupyter-widgets/base",
            "_model_module_version": "1.5.0",
            "_view_count": null,
            "_view_module_version": "1.2.0",
            "_model_module": "@jupyter-widgets/controls"
          }
        },
        "c177b3e0e86f47b0b695313b417a7647": {
          "model_module": "@jupyter-widgets/base",
          "model_name": "LayoutModel",
          "state": {
            "_view_name": "LayoutView",
            "grid_template_rows": null,
            "right": null,
            "justify_content": null,
            "_view_module": "@jupyter-widgets/base",
            "overflow": null,
            "_model_module_version": "1.2.0",
            "_view_count": null,
            "flex_flow": null,
            "width": null,
            "min_width": null,
            "border": null,
            "align_items": null,
            "bottom": null,
            "_model_module": "@jupyter-widgets/base",
            "top": null,
            "grid_column": null,
            "overflow_y": null,
            "overflow_x": null,
            "grid_auto_flow": null,
            "grid_area": null,
            "grid_template_columns": null,
            "flex": null,
            "_model_name": "LayoutModel",
            "justify_items": null,
            "grid_row": null,
            "max_height": null,
            "align_content": null,
            "visibility": null,
            "align_self": null,
            "height": null,
            "min_height": null,
            "padding": null,
            "grid_auto_rows": null,
            "grid_gap": null,
            "max_width": null,
            "order": null,
            "_view_module_version": "1.2.0",
            "grid_template_areas": null,
            "object_position": null,
            "object_fit": null,
            "grid_auto_columns": null,
            "margin": null,
            "display": null,
            "left": null
          }
        },
        "26f2a587e18e40ed8a0049d5af35a003": {
          "model_module": "@jupyter-widgets/controls",
          "model_name": "HBoxModel",
          "state": {
            "_view_name": "HBoxView",
            "_dom_classes": [],
            "_model_name": "HBoxModel",
            "_view_module": "@jupyter-widgets/controls",
            "_model_module_version": "1.5.0",
            "_view_count": null,
            "_view_module_version": "1.5.0",
            "box_style": "",
            "layout": "IPY_MODEL_d5caa89e22cb4cf1becdbdafaad5bf0f",
            "_model_module": "@jupyter-widgets/controls",
            "children": [
              "IPY_MODEL_e236337c2f504cb8930955312fd92985",
              "IPY_MODEL_02d092c053b0462d97970132c7d7ea91"
            ]
          }
        },
        "d5caa89e22cb4cf1becdbdafaad5bf0f": {
          "model_module": "@jupyter-widgets/base",
          "model_name": "LayoutModel",
          "state": {
            "_view_name": "LayoutView",
            "grid_template_rows": null,
            "right": null,
            "justify_content": null,
            "_view_module": "@jupyter-widgets/base",
            "overflow": null,
            "_model_module_version": "1.2.0",
            "_view_count": null,
            "flex_flow": null,
            "width": null,
            "min_width": null,
            "border": null,
            "align_items": null,
            "bottom": null,
            "_model_module": "@jupyter-widgets/base",
            "top": null,
            "grid_column": null,
            "overflow_y": null,
            "overflow_x": null,
            "grid_auto_flow": null,
            "grid_area": null,
            "grid_template_columns": null,
            "flex": null,
            "_model_name": "LayoutModel",
            "justify_items": null,
            "grid_row": null,
            "max_height": null,
            "align_content": null,
            "visibility": null,
            "align_self": null,
            "height": null,
            "min_height": null,
            "padding": null,
            "grid_auto_rows": null,
            "grid_gap": null,
            "max_width": null,
            "order": null,
            "_view_module_version": "1.2.0",
            "grid_template_areas": null,
            "object_position": null,
            "object_fit": null,
            "grid_auto_columns": null,
            "margin": null,
            "display": null,
            "left": null
          }
        },
        "e236337c2f504cb8930955312fd92985": {
          "model_module": "@jupyter-widgets/controls",
          "model_name": "FloatProgressModel",
          "state": {
            "_view_name": "ProgressView",
            "style": "IPY_MODEL_b025792af6634883a21cbb79f08d66c2",
            "_dom_classes": [],
            "description": "Loss:  75%",
            "_model_name": "FloatProgressModel",
            "bar_style": "danger",
            "max": 4000,
            "_view_module": "@jupyter-widgets/controls",
            "_model_module_version": "1.5.0",
            "value": 3000,
            "_view_count": null,
            "_view_module_version": "1.5.0",
            "orientation": "horizontal",
            "min": 0,
            "description_tooltip": null,
            "_model_module": "@jupyter-widgets/controls",
            "layout": "IPY_MODEL_aa46f6bd00484666b189f842633afa51"
          }
        },
        "02d092c053b0462d97970132c7d7ea91": {
          "model_module": "@jupyter-widgets/controls",
          "model_name": "HTMLModel",
          "state": {
            "_view_name": "HTMLView",
            "style": "IPY_MODEL_f1d0d2089da44f0db76d826b2e3bd1b8",
            "_dom_classes": [],
            "description": "",
            "_model_name": "HTMLModel",
            "placeholder": "​",
            "_view_module": "@jupyter-widgets/controls",
            "_model_module_version": "1.5.0",
            "value": " 3000/4000 [05:00&lt;01:35, 10.51it/s]",
            "_view_count": null,
            "_view_module_version": "1.5.0",
            "description_tooltip": null,
            "_model_module": "@jupyter-widgets/controls",
            "layout": "IPY_MODEL_c708a9b98e634120928d47dbfe01a39b"
          }
        },
        "b025792af6634883a21cbb79f08d66c2": {
          "model_module": "@jupyter-widgets/controls",
          "model_name": "ProgressStyleModel",
          "state": {
            "_view_name": "StyleView",
            "_model_name": "ProgressStyleModel",
            "description_width": "initial",
            "_view_module": "@jupyter-widgets/base",
            "_model_module_version": "1.5.0",
            "_view_count": null,
            "_view_module_version": "1.2.0",
            "bar_color": null,
            "_model_module": "@jupyter-widgets/controls"
          }
        },
        "aa46f6bd00484666b189f842633afa51": {
          "model_module": "@jupyter-widgets/base",
          "model_name": "LayoutModel",
          "state": {
            "_view_name": "LayoutView",
            "grid_template_rows": null,
            "right": null,
            "justify_content": null,
            "_view_module": "@jupyter-widgets/base",
            "overflow": null,
            "_model_module_version": "1.2.0",
            "_view_count": null,
            "flex_flow": null,
            "width": null,
            "min_width": null,
            "border": null,
            "align_items": null,
            "bottom": null,
            "_model_module": "@jupyter-widgets/base",
            "top": null,
            "grid_column": null,
            "overflow_y": null,
            "overflow_x": null,
            "grid_auto_flow": null,
            "grid_area": null,
            "grid_template_columns": null,
            "flex": null,
            "_model_name": "LayoutModel",
            "justify_items": null,
            "grid_row": null,
            "max_height": null,
            "align_content": null,
            "visibility": null,
            "align_self": null,
            "height": null,
            "min_height": null,
            "padding": null,
            "grid_auto_rows": null,
            "grid_gap": null,
            "max_width": null,
            "order": null,
            "_view_module_version": "1.2.0",
            "grid_template_areas": null,
            "object_position": null,
            "object_fit": null,
            "grid_auto_columns": null,
            "margin": null,
            "display": null,
            "left": null
          }
        },
        "f1d0d2089da44f0db76d826b2e3bd1b8": {
          "model_module": "@jupyter-widgets/controls",
          "model_name": "DescriptionStyleModel",
          "state": {
            "_view_name": "StyleView",
            "_model_name": "DescriptionStyleModel",
            "description_width": "",
            "_view_module": "@jupyter-widgets/base",
            "_model_module_version": "1.5.0",
            "_view_count": null,
            "_view_module_version": "1.2.0",
            "_model_module": "@jupyter-widgets/controls"
          }
        },
        "c708a9b98e634120928d47dbfe01a39b": {
          "model_module": "@jupyter-widgets/base",
          "model_name": "LayoutModel",
          "state": {
            "_view_name": "LayoutView",
            "grid_template_rows": null,
            "right": null,
            "justify_content": null,
            "_view_module": "@jupyter-widgets/base",
            "overflow": null,
            "_model_module_version": "1.2.0",
            "_view_count": null,
            "flex_flow": null,
            "width": null,
            "min_width": null,
            "border": null,
            "align_items": null,
            "bottom": null,
            "_model_module": "@jupyter-widgets/base",
            "top": null,
            "grid_column": null,
            "overflow_y": null,
            "overflow_x": null,
            "grid_auto_flow": null,
            "grid_area": null,
            "grid_template_columns": null,
            "flex": null,
            "_model_name": "LayoutModel",
            "justify_items": null,
            "grid_row": null,
            "max_height": null,
            "align_content": null,
            "visibility": null,
            "align_self": null,
            "height": null,
            "min_height": null,
            "padding": null,
            "grid_auto_rows": null,
            "grid_gap": null,
            "max_width": null,
            "order": null,
            "_view_module_version": "1.2.0",
            "grid_template_areas": null,
            "object_position": null,
            "object_fit": null,
            "grid_auto_columns": null,
            "margin": null,
            "display": null,
            "left": null
          }
        }
      }
    }
  },
  "cells": [
    {
      "cell_type": "markdown",
      "metadata": {
        "id": "view-in-github",
        "colab_type": "text"
      },
      "source": [
        "<a href=\"https://colab.research.google.com/github/shreyus3003/CMPE297_sec49/blob/master/Assignment_1_Part_1/Assign1_part1_MIL.ipynb\" target=\"_parent\"><img src=\"https://colab.research.google.com/assets/colab-badge.svg\" alt=\"Open In Colab\"/></a>"
      ]
    },
    {
      "cell_type": "markdown",
      "metadata": {
        "id": "JbCw33IMx0SK",
        "colab_type": "text"
      },
      "source": [
        "# Multi-instance Learning:\n",
        "MIL is a supervised learning where bags or groups of samples are labeled. This means that the individual examples are unlabeled.\n",
        "This could be very useful in Medical field for example, in identifing cancer cells.\n",
        "A bag is considered positive if atleast one instance in the bag is positive and negative if all the instances are negative.\n",
        "\n",
        "The below code illustarte a MIL model where we use MNIST dataset for simple implementation. We only take few images for this purpose from the dataset.\n",
        "This is a pytorch implementation."
      ]
    },
    {
      "cell_type": "code",
      "metadata": {
        "id": "3eJvvJbWHp4S",
        "colab_type": "code",
        "colab": {}
      },
      "source": [
        "# Import all the libraries required for pytorch and metrics display.\n",
        "import os \n",
        "import tensorflow as tf\n",
        "import time \n",
        "\n",
        "import numpy as np\n",
        "import pandas as pd\n",
        "\n",
        "import torch\n",
        "from torchvision.models.resnet import ResNet, BasicBlock\n",
        "from torchvision.datasets import MNIST\n",
        "from sklearn.metrics import recall_score, f1_score, accuracy_score, precision_score\n",
        "from torch import nn, optim\n",
        "from torchvision.transforms import ToTensor, Normalize, Resize, Compose\n",
        "from torch.utils.data import DataLoader\n",
        "\n",
        "import inspect\n",
        "import tensorflow as tf\n",
        "\n",
        "from tqdm.autonotebook import tqdm\n",
        "\n",
        "import warnings\n",
        "warnings.filterwarnings('ignore')\n"
      ],
      "execution_count": 133,
      "outputs": []
    },
    {
      "cell_type": "markdown",
      "metadata": {
        "id": "mOAHFC8jz_aT",
        "colab_type": "text"
      },
      "source": [
        "We use GPU to train the model if available else CPU is use."
      ]
    },
    {
      "cell_type": "code",
      "metadata": {
        "id": "sDBmwqMsL8Bk",
        "colab_type": "code",
        "colab": {}
      },
      "source": [
        "device  = torch.device(\"cuda:0\" if torch.cuda.is_available() else \"cpu\")\n",
        "start_ts = time.time()"
      ],
      "execution_count": 134,
      "outputs": []
    },
    {
      "cell_type": "markdown",
      "metadata": {
        "id": "wMzPQprJ0Jg7",
        "colab_type": "text"
      },
      "source": [
        "## Define a Model\n",
        "Use resenet model to define a simple model."
      ]
    },
    {
      "cell_type": "code",
      "metadata": {
        "id": "gcFpu8pcRNF7",
        "colab_type": "code",
        "colab": {}
      },
      "source": [
        "class M_resnet(ResNet):\n",
        "  def __init__(self):\n",
        "    super(M_resnet, self).__init__(BasicBlock, [2,2,2,2], num_classes = 10)\n",
        "    self.conv1 = torch.nn.Conv2d(1, 64, kernel_size = (7,7), stride=(2,2), padding=(3,3), bias=False)\n",
        "  \n",
        "  def forward(self, x):\n",
        "    return torch.softmax(super(M_resnet, self).forward(x), dim=-1)"
      ],
      "execution_count": 135,
      "outputs": []
    },
    {
      "cell_type": "markdown",
      "metadata": {
        "id": "YeJQFWDh0buE",
        "colab_type": "text"
      },
      "source": [
        "Functions to calculate and display the metrics is defined.\n"
      ]
    },
    {
      "cell_type": "code",
      "metadata": {
        "id": "W3558uBVLIxm",
        "colab_type": "code",
        "colab": {}
      },
      "source": [
        "def metrics_cal( metric_fn, true_y, pred_y):\n",
        "  if \"average\" in inspect.getfullargspec(metric_fn).args:\n",
        "    return metric_fn(true_y, pred_y, average=\"macro\")\n",
        "  else:\n",
        "    return metric_fn(true_y, pred_y)\n",
        "\n",
        "# def display_scores(p, r, f1, a, batch_size):\n",
        "#   for name, scores in zip((\"precision\", \"recall\", \"F1\", \"accuracy\"), (p,r,f1,a)):\n",
        "#     print(f\"\\t{name.rjust(14,' ')}: {sum(scores)/batch_size:4f}\")\n",
        "\n",
        "def display_scores(p, r, f1, a, batch_size):\n",
        "  a = (np.sum(a)/batch_size)\n",
        "  # print(a)\n",
        "  print(f\"\\tAccuracy: {a:4f}\")\n"
      ],
      "execution_count": 136,
      "outputs": []
    },
    {
      "cell_type": "markdown",
      "metadata": {
        "id": "w-6YSiX40wV-",
        "colab_type": "text"
      },
      "source": [
        "## Load the MNIST dataset:\n",
        "Mnist dataset is loaded and as we are considering only few sample images for the faster training of the model, we use 15K samples of training data and 4K samples of validation data."
      ]
    },
    {
      "cell_type": "code",
      "metadata": {
        "id": "QuRkoWeH0qHF",
        "colab_type": "code",
        "colab": {}
      },
      "source": [
        "def load_data(train_batch_size, val_batch_size):\n",
        "  mnist = MNIST(download=True, train=True, root=\".\").train_data.float()\n",
        "  d_transform = Compose([Resize((224,224)), ToTensor(), Normalize((mnist.mean()/255,), (mnist.std()/255,))])\n",
        "  dataset_train = MNIST(download=True, root=\".\", transform=d_transform, train=True)\n",
        "  dataset_val = MNIST(download=False, root=\".\", transform=d_transform, train=False)\n",
        "  \n",
        "  train_set, a  = torch.utils.data.random_split(dataset_train, [15000, 45000])\n",
        "  val_set, b = torch.utils.data.random_split(dataset_val, [4000,6000])\n",
        "\n",
        "  train_loader = DataLoader(train_set, batch_size=train_batch_size, shuffle=True)\n",
        "  val_loader = DataLoader(val_set, batch_size=val_batch_size, shuffle=False)\n",
        "  return train_loader, val_loader"
      ],
      "execution_count": null,
      "outputs": []
    },
    {
      "cell_type": "code",
      "metadata": {
        "id": "81ne2sknQkKr",
        "colab_type": "code",
        "colab": {}
      },
      "source": [
        "train_batch_size = 256\n",
        "val_batch_size = 256\n",
        "\n",
        "train_loader, valid_loader = load_data(train_batch_size, val_batch_size)"
      ],
      "execution_count": 137,
      "outputs": []
    },
    {
      "cell_type": "markdown",
      "metadata": {
        "id": "AToRJSIb1N95",
        "colab_type": "text"
      },
      "source": [
        "Load the model defined above and train the model. Use 6 epochs to train. The training metrics are displayed."
      ]
    },
    {
      "cell_type": "code",
      "metadata": {
        "id": "fonA3jHCSSiI",
        "colab_type": "code",
        "colab": {
          "base_uri": "https://localhost:8080/",
          "height": 549,
          "referenced_widgets": [
            "b1fefec10cad4f13a0ed77dbffd9b9b8",
            "27c75c48177343909157980cce1e9153",
            "48879c204d674cce956e7de64a668a3a",
            "2829eb1d319f4449adfe951555fa0e45",
            "206a9a8eacc44199a58a5c4b6cfec57d",
            "32948b8915384aedb07e031586a35d1b",
            "498d591c0dc74f6381c80c28f0e9777a",
            "2bf321f6fd6f41d2b51abd205b017d98",
            "0316fb6df2e3408c8a70859929c3c31d",
            "f9a8b17a10e0446d968fbe7dd6821816",
            "63e34a3c20c34dd5a0f5875ee4c54d2c",
            "1997dbda51194474a2e18a71f42a82e4",
            "faec188c4f644ad89af0edc76205193b",
            "bbba0fe8b42c421ca0c82e196a1869dc",
            "c4cb98c1c5ce4f50813ceb6a5e2a9895",
            "67e4ca20dc8041ea91a511608519deb5",
            "58727b40da2b47d0b9052863b7878fd9",
            "557379d730064919a239c59f3a02f8c9",
            "a8744e9975054f9cb886765f9af3a55f",
            "399e3537394e45329298f3081d85586d",
            "2d9c6ad0234f4c76ad51dd8e40b9402f",
            "6973a0c8b5634cc196487b685f42c51b",
            "954e2f24a3b94d4fbca9f4fe68f94143",
            "ccd740fc28414ec98410d14dfefd75e1",
            "825396a309d6458a9b1ed4307c48ba0a",
            "25eff6aa4cdd45028e103ab23c6ac2ce",
            "79c7186498c14affacd3ce3f3ff8aa1f",
            "18804f04b70442f094690e2d663afa79",
            "8f6aa2297db7418f9d183367cfb3ca4a",
            "774d2569175148c88277a9e1dd8ba74c",
            "017567992cdd411f83d08a98a12f9b1c",
            "e66205784719451fa734357af8d9c350",
            "f437cbfebe8a480ea05b49f46b2bebaa",
            "3e69860d7d9347a1a4054f5961e8ba71",
            "528b8c717954490e82b638869bb6ee14",
            "0ea4a1b4d384412e864cfcefb6930742",
            "62cdd6770feb4529ba3f4f4df11d82a6",
            "628a0a18eea142759a975f3709f8f413",
            "918f6f647cea42479110c035c0c41d3a",
            "9b4eeae83f3248d0a7e56cfadd375211",
            "bc487d1868374c8a970d34da44e96435",
            "1a6bc95cc7674331b3bb70b9015eb5da",
            "c99c61fb66ee4532b0f5ecc25b8ddf51",
            "df64b6835adf40acb866fc20bc282e83",
            "f71ea899ef454d31aafc02942ddcc6f5",
            "75489581f57547f59c33ffe1a746457c",
            "60d1216bc7be40e49ddc87afa3052117",
            "e6ce47fddb434f978515782b0947c5c8"
          ]
        },
        "outputId": "072b22fe-af2d-4872-ff14-e76594efcff7"
      },
      "source": [
        "# Load the model:\n",
        "model = M_resnet().to(device)\n",
        "\n",
        "epochs = 6\n",
        "train_loader, val_loader = load_data(train_batch_size, val_batch_size)\n",
        "loss_function = nn.CrossEntropyLoss()\n",
        "\n",
        "optimizer = optim.Adadelta(model.parameters())\n",
        "\n",
        "losses = []\n",
        "batches = len(train_loader)\n",
        "val_batches = len(val_loader)\n",
        "print(batches)\n",
        "val_batches\n",
        "\n",
        "for epoch in range(epochs):\n",
        "  total_loss = 0\n",
        "\n",
        "  progress = tqdm(enumerate(train_loader), desc=\"Loss: \", total=batches)\n",
        "  model.train()\n",
        "\n",
        "  for i, data in progress:\n",
        "    X, y = data[0].to(device), data[1].to(device)\n",
        "    model.zero_grad()\n",
        "\n",
        "    outputs = model(X)\n",
        "    loss = loss_function(outputs, y)\n",
        "    loss.backward()\n",
        "    optimizer.step()\n",
        "    current_loss = loss.item()\n",
        "    total_loss += current_loss\n",
        "\n",
        "    progress.set_description(\"Loss: {:.4f}\".format(total_loss/(i+1)))\n",
        "\n",
        "  if torch.cuda.is_available():\n",
        "    torch.cuda.empty_cache()\n",
        "\n",
        "  val_losses = 0\n",
        "  precision, recall, f1, accuracy = [], [], [], []\n",
        "\n",
        "  model.eval()\n",
        "  with torch.no_grad():\n",
        "    for i, data in enumerate(val_loader):\n",
        "      X, y = data[0].to(device), data[1].to(device)\n",
        "\n",
        "      outputs = model(X)\n",
        "      val_losses += loss_function(outputs, y)\n",
        "      predicted_classses = torch.max(outputs, 1)[1]\n",
        "\n",
        "      for acc, metric in zip((precision, recall, f1, accuracy),\n",
        "                             (precision_score, recall_score, f1_score, accuracy_score)):\n",
        "        acc.append(metrics_cal(metric, y.cpu(), predicted_classses.cpu()))\n",
        "\n",
        "  print(f\"epoch {epoch+1}/{epochs}, training loss: {total_loss/batches}, validation loss : {val_losses/val_batches}\")\n",
        "  display_scores(precision, recall, f1, accuracy, val_batches)\n",
        "  losses.append(total_loss/batches)\n",
        "print(f\"Training time : {time.time()-start_ts}s\")        \n",
        "    \n"
      ],
      "execution_count": 138,
      "outputs": [
        {
          "output_type": "stream",
          "text": [
            "59\n"
          ],
          "name": "stdout"
        },
        {
          "output_type": "display_data",
          "data": {
            "application/vnd.jupyter.widget-view+json": {
              "model_id": "b1fefec10cad4f13a0ed77dbffd9b9b8",
              "version_minor": 0,
              "version_major": 2
            },
            "text/plain": [
              "HBox(children=(FloatProgress(value=0.0, description='Loss: ', max=59.0, style=ProgressStyle(description_width=…"
            ]
          },
          "metadata": {
            "tags": []
          }
        },
        {
          "output_type": "stream",
          "text": [
            "\n",
            "epoch 1/6, training loss: 1.9146391133130607, validation loss : 1.8660717010498047\n",
            "\tAccuracy: 0.604590\n"
          ],
          "name": "stdout"
        },
        {
          "output_type": "display_data",
          "data": {
            "application/vnd.jupyter.widget-view+json": {
              "model_id": "0316fb6df2e3408c8a70859929c3c31d",
              "version_minor": 0,
              "version_major": 2
            },
            "text/plain": [
              "HBox(children=(FloatProgress(value=0.0, description='Loss: ', max=59.0, style=ProgressStyle(description_width=…"
            ]
          },
          "metadata": {
            "tags": []
          }
        },
        {
          "output_type": "stream",
          "text": [
            "\n",
            "epoch 2/6, training loss: 1.566627114506091, validation loss : 1.6792722940444946\n",
            "\tAccuracy: 0.818750\n"
          ],
          "name": "stdout"
        },
        {
          "output_type": "display_data",
          "data": {
            "application/vnd.jupyter.widget-view+json": {
              "model_id": "58727b40da2b47d0b9052863b7878fd9",
              "version_minor": 0,
              "version_major": 2
            },
            "text/plain": [
              "HBox(children=(FloatProgress(value=0.0, description='Loss: ', max=59.0, style=ProgressStyle(description_width=…"
            ]
          },
          "metadata": {
            "tags": []
          }
        },
        {
          "output_type": "stream",
          "text": [
            "\n",
            "epoch 3/6, training loss: 1.4907884941262715, validation loss : 1.5415740013122559\n",
            "\tAccuracy: 0.933545\n"
          ],
          "name": "stdout"
        },
        {
          "output_type": "display_data",
          "data": {
            "application/vnd.jupyter.widget-view+json": {
              "model_id": "825396a309d6458a9b1ed4307c48ba0a",
              "version_minor": 0,
              "version_major": 2
            },
            "text/plain": [
              "HBox(children=(FloatProgress(value=0.0, description='Loss: ', max=59.0, style=ProgressStyle(description_width=…"
            ]
          },
          "metadata": {
            "tags": []
          }
        },
        {
          "output_type": "stream",
          "text": [
            "\n",
            "epoch 4/6, training loss: 1.4791653439150019, validation loss : 1.5082403421401978\n",
            "\tAccuracy: 0.963672\n"
          ],
          "name": "stdout"
        },
        {
          "output_type": "display_data",
          "data": {
            "application/vnd.jupyter.widget-view+json": {
              "model_id": "f437cbfebe8a480ea05b49f46b2bebaa",
              "version_minor": 0,
              "version_major": 2
            },
            "text/plain": [
              "HBox(children=(FloatProgress(value=0.0, description='Loss: ', max=59.0, style=ProgressStyle(description_width=…"
            ]
          },
          "metadata": {
            "tags": []
          }
        },
        {
          "output_type": "stream",
          "text": [
            "\n",
            "epoch 5/6, training loss: 1.4746139635473996, validation loss : 1.5810800790786743\n",
            "\tAccuracy: 0.889355\n"
          ],
          "name": "stdout"
        },
        {
          "output_type": "display_data",
          "data": {
            "application/vnd.jupyter.widget-view+json": {
              "model_id": "bc487d1868374c8a970d34da44e96435",
              "version_minor": 0,
              "version_major": 2
            },
            "text/plain": [
              "HBox(children=(FloatProgress(value=0.0, description='Loss: ', max=59.0, style=ProgressStyle(description_width=…"
            ]
          },
          "metadata": {
            "tags": []
          }
        },
        {
          "output_type": "stream",
          "text": [
            "\n",
            "epoch 6/6, training loss: 1.470792139990855, validation loss : 1.5545800924301147\n",
            "\tAccuracy: 0.921680\n",
            "Training time : 588.1497838497162s\n"
          ],
          "name": "stdout"
        }
      ]
    },
    {
      "cell_type": "markdown",
      "metadata": {
        "id": "30vwgDEF1g1t",
        "colab_type": "text"
      },
      "source": [
        "Save the model."
      ]
    },
    {
      "cell_type": "code",
      "metadata": {
        "id": "qaoFtoG6aebU",
        "colab_type": "code",
        "colab": {}
      },
      "source": [
        "torch.save(model.state_dict(), 'supervis_mnist.pt')"
      ],
      "execution_count": 13,
      "outputs": []
    },
    {
      "cell_type": "markdown",
      "metadata": {
        "id": "uapF7zLT1knu",
        "colab_type": "text"
      },
      "source": [
        "## Load MNIST dataset:\n",
        "Mnist dataset is loaded using keras for creating the bags and groups out of the samples. we use 14k trainig samples and 3k validation samples to create bags.\n",
        "\n"
      ]
    },
    {
      "cell_type": "code",
      "metadata": {
        "id": "Tj8ysGjbbeFG",
        "colab_type": "code",
        "colab": {
          "base_uri": "https://localhost:8080/",
          "height": 51
        },
        "outputId": "5eefb865-0afd-4a1d-bb8a-54c0d4c853a4"
      },
      "source": [
        "(x_train, y_train), (x_test, y_test) = tf.keras.datasets.mnist.load_data()"
      ],
      "execution_count": 14,
      "outputs": [
        {
          "output_type": "stream",
          "text": [
            "Downloading data from https://storage.googleapis.com/tensorflow/tf-keras-datasets/mnist.npz\n",
            "11493376/11490434 [==============================] - 0s 0us/step\n"
          ],
          "name": "stdout"
        }
      ]
    },
    {
      "cell_type": "code",
      "metadata": {
        "id": "fdlZBoxsbehM",
        "colab_type": "code",
        "colab": {}
      },
      "source": [
        "x_train = x_train[:14001]\n",
        "y_train = y_train[:14001]\n",
        "\n",
        "x_test = x_test[:3000]\n",
        "y_test = y_test[:3000]"
      ],
      "execution_count": 15,
      "outputs": []
    },
    {
      "cell_type": "code",
      "metadata": {
        "id": "-e2JVPAPbemv",
        "colab_type": "code",
        "colab": {
          "base_uri": "https://localhost:8080/",
          "height": 51
        },
        "outputId": "d09cc128-1ae0-4d96-a6a4-870bb8a88afc"
      },
      "source": [
        "# Normalize the data.\n",
        "\n",
        "x_train = x_train.astype('float32')\n",
        "x_test = x_test.astype('float32')\n",
        "\n",
        "x_train /= 255\n",
        "x_test /= 225\n",
        "print('x_train:', x_train.shape)\n",
        "print('x_test:', x_test.shape)"
      ],
      "execution_count": 17,
      "outputs": [
        {
          "output_type": "stream",
          "text": [
            "x_train: (14001, 28, 28)\n",
            "x_test: (3000, 28, 28)\n"
          ],
          "name": "stdout"
        }
      ]
    },
    {
      "cell_type": "markdown",
      "metadata": {
        "id": "JjDWn1UC2Pgi",
        "colab_type": "text"
      },
      "source": [
        "## Create bags\n",
        "In this example we create bags such that the bag label is assigned as 1 if 1 of the instance has one. bag label is zero if the labels are 0-9 other than 1. Below we create the bags."
      ]
    },
    {
      "cell_type": "code",
      "metadata": {
        "id": "_BXun8NHd2aY",
        "colab_type": "code",
        "colab": {}
      },
      "source": [
        "inst_index_label = [(i, y_train[i]) for i in range(x_train.shape[0])]\n",
        "inst_index_label_test = [(i, y_test[i]) for i in range(x_test.shape[0])]\n",
        "inst_index_label"
      ],
      "execution_count": null,
      "outputs": []
    },
    {
      "cell_type": "code",
      "metadata": {
        "id": "X7HMoX6Nd2fq",
        "colab_type": "code",
        "colab": {}
      },
      "source": [
        "f_index = [inst_index_label[i][0] for i in range(len(inst_index_label)) if inst_index_label[i][1]==1]\n",
        "f_index_test = [inst_index_label_test[i][0] for i in range(len(inst_index_label_test)) if inst_index_label_test[i][1]==1]"
      ],
      "execution_count": 21,
      "outputs": []
    },
    {
      "cell_type": "markdown",
      "metadata": {
        "id": "NWijN_oWpaYy",
        "colab_type": "text"
      },
      "source": [
        "Load the model which was trained and saved earlier with 14k mnist samples. Extract the last layer for using it to get the features."
      ]
    },
    {
      "cell_type": "code",
      "metadata": {
        "id": "_gM7kxv1d2jT",
        "colab_type": "code",
        "colab": {
          "base_uri": "https://localhost:8080/",
          "height": 1000
        },
        "outputId": "fcc6abe9-60b6-416c-cc77-12b490b3b34d"
      },
      "source": [
        "model = M_resnet()\n",
        "model.load_state_dict(torch.load('/content/supervis_mnist.pt'))\n",
        "body = nn.Sequential(*list(model.children()))\n",
        "model = body[:9]\n",
        "model.eval()"
      ],
      "execution_count": 27,
      "outputs": [
        {
          "output_type": "execute_result",
          "data": {
            "text/plain": [
              "Sequential(\n",
              "  (0): Conv2d(1, 64, kernel_size=(7, 7), stride=(2, 2), padding=(3, 3), bias=False)\n",
              "  (1): BatchNorm2d(64, eps=1e-05, momentum=0.1, affine=True, track_running_stats=True)\n",
              "  (2): ReLU(inplace=True)\n",
              "  (3): MaxPool2d(kernel_size=3, stride=2, padding=1, dilation=1, ceil_mode=False)\n",
              "  (4): Sequential(\n",
              "    (0): BasicBlock(\n",
              "      (conv1): Conv2d(64, 64, kernel_size=(3, 3), stride=(1, 1), padding=(1, 1), bias=False)\n",
              "      (bn1): BatchNorm2d(64, eps=1e-05, momentum=0.1, affine=True, track_running_stats=True)\n",
              "      (relu): ReLU(inplace=True)\n",
              "      (conv2): Conv2d(64, 64, kernel_size=(3, 3), stride=(1, 1), padding=(1, 1), bias=False)\n",
              "      (bn2): BatchNorm2d(64, eps=1e-05, momentum=0.1, affine=True, track_running_stats=True)\n",
              "    )\n",
              "    (1): BasicBlock(\n",
              "      (conv1): Conv2d(64, 64, kernel_size=(3, 3), stride=(1, 1), padding=(1, 1), bias=False)\n",
              "      (bn1): BatchNorm2d(64, eps=1e-05, momentum=0.1, affine=True, track_running_stats=True)\n",
              "      (relu): ReLU(inplace=True)\n",
              "      (conv2): Conv2d(64, 64, kernel_size=(3, 3), stride=(1, 1), padding=(1, 1), bias=False)\n",
              "      (bn2): BatchNorm2d(64, eps=1e-05, momentum=0.1, affine=True, track_running_stats=True)\n",
              "    )\n",
              "  )\n",
              "  (5): Sequential(\n",
              "    (0): BasicBlock(\n",
              "      (conv1): Conv2d(64, 128, kernel_size=(3, 3), stride=(2, 2), padding=(1, 1), bias=False)\n",
              "      (bn1): BatchNorm2d(128, eps=1e-05, momentum=0.1, affine=True, track_running_stats=True)\n",
              "      (relu): ReLU(inplace=True)\n",
              "      (conv2): Conv2d(128, 128, kernel_size=(3, 3), stride=(1, 1), padding=(1, 1), bias=False)\n",
              "      (bn2): BatchNorm2d(128, eps=1e-05, momentum=0.1, affine=True, track_running_stats=True)\n",
              "      (downsample): Sequential(\n",
              "        (0): Conv2d(64, 128, kernel_size=(1, 1), stride=(2, 2), bias=False)\n",
              "        (1): BatchNorm2d(128, eps=1e-05, momentum=0.1, affine=True, track_running_stats=True)\n",
              "      )\n",
              "    )\n",
              "    (1): BasicBlock(\n",
              "      (conv1): Conv2d(128, 128, kernel_size=(3, 3), stride=(1, 1), padding=(1, 1), bias=False)\n",
              "      (bn1): BatchNorm2d(128, eps=1e-05, momentum=0.1, affine=True, track_running_stats=True)\n",
              "      (relu): ReLU(inplace=True)\n",
              "      (conv2): Conv2d(128, 128, kernel_size=(3, 3), stride=(1, 1), padding=(1, 1), bias=False)\n",
              "      (bn2): BatchNorm2d(128, eps=1e-05, momentum=0.1, affine=True, track_running_stats=True)\n",
              "    )\n",
              "  )\n",
              "  (6): Sequential(\n",
              "    (0): BasicBlock(\n",
              "      (conv1): Conv2d(128, 256, kernel_size=(3, 3), stride=(2, 2), padding=(1, 1), bias=False)\n",
              "      (bn1): BatchNorm2d(256, eps=1e-05, momentum=0.1, affine=True, track_running_stats=True)\n",
              "      (relu): ReLU(inplace=True)\n",
              "      (conv2): Conv2d(256, 256, kernel_size=(3, 3), stride=(1, 1), padding=(1, 1), bias=False)\n",
              "      (bn2): BatchNorm2d(256, eps=1e-05, momentum=0.1, affine=True, track_running_stats=True)\n",
              "      (downsample): Sequential(\n",
              "        (0): Conv2d(128, 256, kernel_size=(1, 1), stride=(2, 2), bias=False)\n",
              "        (1): BatchNorm2d(256, eps=1e-05, momentum=0.1, affine=True, track_running_stats=True)\n",
              "      )\n",
              "    )\n",
              "    (1): BasicBlock(\n",
              "      (conv1): Conv2d(256, 256, kernel_size=(3, 3), stride=(1, 1), padding=(1, 1), bias=False)\n",
              "      (bn1): BatchNorm2d(256, eps=1e-05, momentum=0.1, affine=True, track_running_stats=True)\n",
              "      (relu): ReLU(inplace=True)\n",
              "      (conv2): Conv2d(256, 256, kernel_size=(3, 3), stride=(1, 1), padding=(1, 1), bias=False)\n",
              "      (bn2): BatchNorm2d(256, eps=1e-05, momentum=0.1, affine=True, track_running_stats=True)\n",
              "    )\n",
              "  )\n",
              "  (7): Sequential(\n",
              "    (0): BasicBlock(\n",
              "      (conv1): Conv2d(256, 512, kernel_size=(3, 3), stride=(2, 2), padding=(1, 1), bias=False)\n",
              "      (bn1): BatchNorm2d(512, eps=1e-05, momentum=0.1, affine=True, track_running_stats=True)\n",
              "      (relu): ReLU(inplace=True)\n",
              "      (conv2): Conv2d(512, 512, kernel_size=(3, 3), stride=(1, 1), padding=(1, 1), bias=False)\n",
              "      (bn2): BatchNorm2d(512, eps=1e-05, momentum=0.1, affine=True, track_running_stats=True)\n",
              "      (downsample): Sequential(\n",
              "        (0): Conv2d(256, 512, kernel_size=(1, 1), stride=(2, 2), bias=False)\n",
              "        (1): BatchNorm2d(512, eps=1e-05, momentum=0.1, affine=True, track_running_stats=True)\n",
              "      )\n",
              "    )\n",
              "    (1): BasicBlock(\n",
              "      (conv1): Conv2d(512, 512, kernel_size=(3, 3), stride=(1, 1), padding=(1, 1), bias=False)\n",
              "      (bn1): BatchNorm2d(512, eps=1e-05, momentum=0.1, affine=True, track_running_stats=True)\n",
              "      (relu): ReLU(inplace=True)\n",
              "      (conv2): Conv2d(512, 512, kernel_size=(3, 3), stride=(1, 1), padding=(1, 1), bias=False)\n",
              "      (bn2): BatchNorm2d(512, eps=1e-05, momentum=0.1, affine=True, track_running_stats=True)\n",
              "    )\n",
              "  )\n",
              "  (8): AdaptiveAvgPool2d(output_size=(1, 1))\n",
              ")"
            ]
          },
          "metadata": {
            "tags": []
          },
          "execution_count": 27
        }
      ]
    },
    {
      "cell_type": "markdown",
      "metadata": {
        "id": "WTIkodW9hhZX",
        "colab_type": "text"
      },
      "source": [
        "# Extract Features"
      ]
    },
    {
      "cell_type": "code",
      "metadata": {
        "id": "gbAlLmgKd2c-",
        "colab_type": "code",
        "colab": {
          "base_uri": "https://localhost:8080/",
          "height": 51
        },
        "outputId": "51aee68a-f2b5-4d7b-9357-1a75b93da56a"
      },
      "source": [
        "train_batch_size = 1\n",
        "val_batch_size = 1\n",
        "train_loader, val_loader = load_data(train_batch_size, val_batch_size)\n",
        "loss_function = nn.CrossEntropyLoss()\n",
        "\n",
        "optimizer = optim.Adadelta(model.parameters())"
      ],
      "execution_count": 28,
      "outputs": [
        {
          "output_type": "stream",
          "text": [
            "/usr/local/lib/python3.6/dist-packages/torchvision/datasets/mnist.py:55: UserWarning: train_data has been renamed data\n",
            "  warnings.warn(\"train_data has been renamed data\")\n"
          ],
          "name": "stderr"
        }
      ]
    },
    {
      "cell_type": "code",
      "metadata": {
        "id": "cf9rhyIObele",
        "colab_type": "code",
        "colab": {}
      },
      "source": [
        "losses = []\n",
        "batches = len(train_loader)\n",
        "val_batches = len(val_loader)"
      ],
      "execution_count": 29,
      "outputs": []
    },
    {
      "cell_type": "markdown",
      "metadata": {
        "id": "OxCEkhqXiN8G",
        "colab_type": "text"
      },
      "source": [
        "#Extract features for train:\n",
        "Obtain the features from the previously trained model and save it as f_array."
      ]
    },
    {
      "cell_type": "code",
      "metadata": {
        "id": "6YNjIOWNh6xR",
        "colab_type": "code",
        "colab": {
          "base_uri": "https://localhost:8080/",
          "height": 49,
          "referenced_widgets": [
            "8ab5ab45631449608212dfaeca640a55",
            "da67d3ccbfdd40cc8743f9d9998faa7e",
            "8cf11aea6ae345e5a11ea0658b8f2e72",
            "c044bcf89da44dec8f6d1b6beb0aa3ff",
            "ec3a459f4b094e7fb79ae59fdb34b535",
            "ca69b29ae7ec4a22a9f780194fe30d07",
            "a0a9c1c70a0041ad8a975ad38d6b6b3a",
            "c177b3e0e86f47b0b695313b417a7647"
          ]
        },
        "outputId": "fff4d37e-70df-429b-9756-8cc7616f0151"
      },
      "source": [
        "meta_table = dict()\n",
        "feature_res = []\n",
        "\n",
        "progress = tqdm(enumerate(train_loader), desc=\"Loss: \", total=batches)\n",
        "\n",
        "model.eval()\n",
        "for i, data in progress:\n",
        "  if i == 14001:\n",
        "    break\n",
        "  X, y = data[0], data[1]\n",
        "  model.zero_grad()\n",
        "  outputs = model(X)\n",
        "  feature_res.append(outputs.reshape(-1).tolist())\n",
        "  meta_table[i] = outputs.reshape(-1).tolist()\n",
        "\n",
        "f_array = np.array(feature_res)\n",
        "np.save('f_array_full', f_array)"
      ],
      "execution_count": 30,
      "outputs": [
        {
          "output_type": "display_data",
          "data": {
            "application/vnd.jupyter.widget-view+json": {
              "model_id": "8ab5ab45631449608212dfaeca640a55",
              "version_minor": 0,
              "version_major": 2
            },
            "text/plain": [
              "HBox(children=(FloatProgress(value=0.0, description='Loss: ', max=15000.0, style=ProgressStyle(description_wid…"
            ]
          },
          "metadata": {
            "tags": []
          }
        }
      ]
    },
    {
      "cell_type": "code",
      "metadata": {
        "id": "dYTf6p_nh63I",
        "colab_type": "code",
        "colab": {}
      },
      "source": [
        "f_array = np.load('/content/f_array_full.npy', allow_pickle=True)"
      ],
      "execution_count": 61,
      "outputs": []
    },
    {
      "cell_type": "markdown",
      "metadata": {
        "id": "y4DI8Lzhj0zt",
        "colab_type": "text"
      },
      "source": [
        "# Extract Features for test:"
      ]
    },
    {
      "cell_type": "code",
      "metadata": {
        "id": "wDgAGBm8jg7V",
        "colab_type": "code",
        "colab": {
          "base_uri": "https://localhost:8080/",
          "height": 49,
          "referenced_widgets": [
            "26f2a587e18e40ed8a0049d5af35a003",
            "d5caa89e22cb4cf1becdbdafaad5bf0f",
            "e236337c2f504cb8930955312fd92985",
            "02d092c053b0462d97970132c7d7ea91",
            "b025792af6634883a21cbb79f08d66c2",
            "aa46f6bd00484666b189f842633afa51",
            "f1d0d2089da44f0db76d826b2e3bd1b8",
            "c708a9b98e634120928d47dbfe01a39b"
          ]
        },
        "outputId": "576f548d-98de-4c85-f086-301097922383"
      },
      "source": [
        "meta_table = dict()\n",
        "f_test_res = []\n",
        "\n",
        "progress = tqdm(enumerate(val_loader), desc=\"Loss: \", total=val_batches)\n",
        "\n",
        "model.eval()\n",
        "for i, data in progress:\n",
        "  if i == 3000:\n",
        "    break\n",
        "  X, y = data[0], data[1]\n",
        "  model.zero_grad()\n",
        "  outputs = model(X)\n",
        "  f_test_res.append(outputs.reshape(-1).tolist())\n",
        "  meta_table[i] = outputs.reshape(-1).tolist()\n",
        "\n",
        "ft_array = np.array(f_test_res)\n",
        "np.save('ft_array_full', ft_array)"
      ],
      "execution_count": 34,
      "outputs": [
        {
          "output_type": "display_data",
          "data": {
            "application/vnd.jupyter.widget-view+json": {
              "model_id": "26f2a587e18e40ed8a0049d5af35a003",
              "version_minor": 0,
              "version_major": 2
            },
            "text/plain": [
              "HBox(children=(FloatProgress(value=0.0, description='Loss: ', max=4000.0, style=ProgressStyle(description_widt…"
            ]
          },
          "metadata": {
            "tags": []
          }
        }
      ]
    },
    {
      "cell_type": "code",
      "metadata": {
        "id": "1bNN-r_5jg-b",
        "colab_type": "code",
        "colab": {}
      },
      "source": [
        "ft_array = np.load('/content/drive/My Drive/assign1_DL/ft_array_full.npy', allow_pickle=True)"
      ],
      "execution_count": 60,
      "outputs": []
    },
    {
      "cell_type": "code",
      "metadata": {
        "id": "IhOwHKOdrj36",
        "colab_type": "code",
        "colab": {}
      },
      "source": [
        "# ! cp /content/f_array_full.npy \"/content/drive/My Drive/assign1_DL\"\n",
        "# ! cp /content/ft_array_full.npy \"/content/drive/My Drive/assign1_DL\""
      ],
      "execution_count": 37,
      "outputs": []
    },
    {
      "cell_type": "markdown",
      "metadata": {
        "id": "wpjO07dWkn7C",
        "colab_type": "text"
      },
      "source": [
        "# Create training Data:\n",
        "Training data is created obtaining the bag instances, labes and features."
      ]
    },
    {
      "cell_type": "code",
      "metadata": {
        "id": "1_ZrRacjh60a",
        "colab_type": "code",
        "colab": {}
      },
      "source": [
        "from typing import List, Dict, Tuple\n",
        "import copy\n",
        "\n",
        "def gen_data(inst_index_label: List[Tuple]) -> List[Dict]:\n",
        "  bag_size = np.random.randint(3,7,size=(len(inst_index_label))//5)\n",
        "    \n",
        "  data_cp = copy.copy(inst_index_label)\n",
        "  np.random.shuffle(data_cp)\n",
        "  bags = {}\n",
        "  bags_per_instance_labels = {}\n",
        "  bags_labels = {}\n",
        "  \n",
        "  for bag_ind, size in enumerate(bag_size):\n",
        "      bags[bag_ind] = []\n",
        "      bags_per_instance_labels[bag_ind] = []\n",
        "      try:\n",
        "          for _ in range(size):\n",
        "              inst_ind, lbl = data_cp.pop()\n",
        "              bags[bag_ind].append(inst_ind)\n",
        "              bags_per_instance_labels[bag_ind].append(lbl)\n",
        "          bags_labels[bag_ind] = bag_label_from_instance_labels(bags_per_instance_labels[bag_ind])\n",
        "      except:\n",
        "          break\n",
        "  return bags, bags_labels\n",
        "\n",
        "def bag_label_from_instance_labels(instance_labels):\n",
        "    return int(any(((x==1) for x in instance_labels)))\n",
        "                          "
      ],
      "execution_count": 76,
      "outputs": []
    },
    {
      "cell_type": "code",
      "metadata": {
        "id": "Jff4NwNyksuU",
        "colab_type": "code",
        "colab": {}
      },
      "source": [
        "bag_indices, bag_labels = gen_data(inst_index_label)\n",
        "#print(feature_array)\n",
        "\n",
        "bag_features = {kk: torch.Tensor(f_array[inds]) for kk, inds in bag_indices.items()}\n",
        "print(bag_features)"
      ],
      "execution_count": null,
      "outputs": []
    },
    {
      "cell_type": "code",
      "metadata": {
        "id": "eBxygupHks0l",
        "colab_type": "code",
        "colab": {}
      },
      "source": [
        "bag_t_indices, bag_t_labels = gen_data(inst_index_label_test)\n",
        "bag_t_features = {kk: torch.Tensor(ft_array[inds]) for kk, inds in bag_t_indices.items()}"
      ],
      "execution_count": 80,
      "outputs": []
    },
    {
      "cell_type": "code",
      "metadata": {
        "id": "moZarpKzpUTi",
        "colab_type": "code",
        "colab": {}
      },
      "source": [
        "! cd /content/"
      ],
      "execution_count": 47,
      "outputs": []
    },
    {
      "cell_type": "code",
      "metadata": {
        "id": "H29c-ZNnqltX",
        "colab_type": "code",
        "colab": {
          "base_uri": "https://localhost:8080/",
          "height": 122
        },
        "outputId": "7b867907-73d9-4d14-e743-1f1009ad1630"
      },
      "source": [
        "from google.colab import drive\n",
        "drive.mount('/content/drive')"
      ],
      "execution_count": 35,
      "outputs": [
        {
          "output_type": "stream",
          "text": [
            "Go to this URL in a browser: https://accounts.google.com/o/oauth2/auth?client_id=947318989803-6bn6qk8qdgf4n4g3pfee6491hc0brc4i.apps.googleusercontent.com&redirect_uri=urn%3aietf%3awg%3aoauth%3a2.0%3aoob&scope=email%20https%3a%2f%2fwww.googleapis.com%2fauth%2fdocs.test%20https%3a%2f%2fwww.googleapis.com%2fauth%2fdrive%20https%3a%2f%2fwww.googleapis.com%2fauth%2fdrive.photos.readonly%20https%3a%2f%2fwww.googleapis.com%2fauth%2fpeopleapi.readonly&response_type=code\n",
            "\n",
            "Enter your authorization code:\n",
            "··········\n",
            "Mounted at /content/drive\n"
          ],
          "name": "stdout"
        }
      ]
    },
    {
      "cell_type": "code",
      "metadata": {
        "id": "YoXjdMpspUeI",
        "colab_type": "code",
        "colab": {
          "base_uri": "https://localhost:8080/",
          "height": 85
        },
        "outputId": "bb7743b2-b877-4fcc-85c1-7612ca81f1e4"
      },
      "source": [
        "train_data = [(bag_features[i],bag_labels[i]) for i in range(len(bag_features))]\n",
        "bag_features[0]"
      ],
      "execution_count": 84,
      "outputs": [
        {
          "output_type": "execute_result",
          "data": {
            "text/plain": [
              "tensor([[1.1818, 1.2626, 1.9718,  ..., 0.9811, 0.7399, 0.6508],\n",
              "        [1.7176, 0.0720, 1.0232,  ..., 0.0195, 0.1820, 0.7949],\n",
              "        [0.7418, 0.0864, 0.1953,  ..., 0.1456, 0.0810, 0.1549],\n",
              "        [0.2397, 1.8663, 0.8743,  ..., 1.8743, 0.9468, 0.4713]])"
            ]
          },
          "metadata": {
            "tags": []
          },
          "execution_count": 84
        }
      ]
    },
    {
      "cell_type": "markdown",
      "metadata": {
        "id": "BAZjIAK6qkfb",
        "colab_type": "text"
      },
      "source": [
        "Padding is done on each tensor to have the same shape, as the bag will be of different sizes"
      ]
    },
    {
      "cell_type": "code",
      "metadata": {
        "id": "mipxXSwepUkh",
        "colab_type": "code",
        "colab": {}
      },
      "source": [
        "def pad_tensor(data:list, max_number_instance) -> list:\n",
        "    new_data = []\n",
        "    for bag_index in range(len(data)):\n",
        "        tensor_size = len(data[bag_index][0])\n",
        "        pad_size = max_number_instance - tensor_size\n",
        "        p2d = (0,0, 0, pad_size)\n",
        "        padded = nn.functional.pad(data[bag_index][0], p2d, 'constant', 0)\n",
        "        new_data.append((padded, data[bag_index][1]))\n",
        "    return new_data"
      ],
      "execution_count": 85,
      "outputs": []
    },
    {
      "cell_type": "code",
      "metadata": {
        "id": "FnGgaLrXksxy",
        "colab_type": "code",
        "colab": {}
      },
      "source": [
        "max_number_instance = 7\n",
        "padded_train = pad_tensor(train_data, max_number_instance)"
      ],
      "execution_count": 86,
      "outputs": []
    },
    {
      "cell_type": "code",
      "metadata": {
        "id": "i4eRrnlBwfwz",
        "colab_type": "code",
        "colab": {}
      },
      "source": [
        "test_data = [(bag_t_features[i],bag_t_labels[i]) for i in range(len(bag_t_features))]\n",
        "padded_test = pad_tensor(test_data, max_number_instance)"
      ],
      "execution_count": 87,
      "outputs": []
    },
    {
      "cell_type": "code",
      "metadata": {
        "id": "D1vv0YA9wf3k",
        "colab_type": "code",
        "colab": {}
      },
      "source": [
        "def load_data(train_data, test_data, train_batch_size, val_batch_size):\n",
        "    train_loader = DataLoader(train_data, batch_size=train_batch_size, shuffle=True)\n",
        "    val_loader = DataLoader(test_data, batch_size=val_batch_size, shuffle=False)\n",
        "    return train_loader, val_loader"
      ],
      "execution_count": 88,
      "outputs": []
    },
    {
      "cell_type": "code",
      "metadata": {
        "id": "hh5ArbFewf0D",
        "colab_type": "code",
        "colab": {}
      },
      "source": [
        "train_loader,valid_loader = load_data(padded_train, padded_test, 1, 1)\n",
        "train_batch_size = 1\n",
        "val_batch_size = 1"
      ],
      "execution_count": 90,
      "outputs": []
    },
    {
      "cell_type": "markdown",
      "metadata": {
        "id": "Gqir0jglrbUZ",
        "colab_type": "text"
      },
      "source": [
        "Define the multi-instance model using torch nn module"
      ]
    },
    {
      "cell_type": "code",
      "metadata": {
        "id": "NjFrLGz0w6Jt",
        "colab_type": "code",
        "colab": {}
      },
      "source": [
        "class NN(torch.nn.Module):\n",
        "\n",
        "    def __init__(self, n=7*512, n_mid = 7168, n_out=1, dropout=0.2):\n",
        "        super(NN, self).__init__()\n",
        "        self.linear1 = torch.nn.Linear(n, n_mid)\n",
        "        self.linear2 = torch.nn.Linear(n_mid, n_out)\n",
        "        self.dropout = torch.nn.Dropout(dropout)\n",
        "        self.non_linearity = torch.nn.LeakyReLU()\n",
        "        \n",
        "    def forward(self, x):\n",
        "        z = self.linear1(x)\n",
        "        z = self.non_linearity(z)\n",
        "        z = self.dropout(z)\n",
        "        z = self.linear2(z)\n",
        "        y_pred = torch.sigmoid(z)\n",
        "        return y_pred\n",
        "\n",
        "class NoisyAnd(torch.nn.Module):\n",
        "    def __init__(self, a=10, dims=[0]):\n",
        "        super(NoisyAnd, self).__init__()\n",
        "        self.a = a\n",
        "        self.b = torch.nn.Parameter(torch.tensor(0.01))\n",
        "        self.dims =dims\n",
        "        self.sigmoid = nn.Sigmoid()\n",
        "    def forward(self, x):\n",
        "        mean = torch.mean(x, self.dims, False)\n",
        "        res = (self.sigmoid(self.a * (mean - self.b)) - self.sigmoid(-self.a * self.b)) / (\n",
        "              self.sigmoid(self.a * (1 - self.b)) - self.sigmoid(-self.a * self.b))\n",
        "        return res\n",
        "    \n",
        "\n",
        "class MIL_NN(torch.nn.Module):\n",
        "\n",
        "    def __init__(self, n=7*512,  n_mid=7168, n_out=1, \n",
        "                 n_inst=None, dropout=0.1,\n",
        "                 noisy_a=4,\n",
        "                 agg = NoisyAnd(a=4, dims=[0]),\n",
        "                ):\n",
        "        super(MIL_NN, self).__init__()\n",
        "        if agg is None:\n",
        "            agg = NoisyAnd(a=noisy_a, dims=[0])\n",
        "        if n_inst is None:\n",
        "            self.mdl_instance = agg\n",
        "            n_inst = n\n",
        "        else:\n",
        "            self.mdl_instance = nn.Sequential(\n",
        "                            nn.Linear(n, n_inst),\n",
        "                            nn.LeakyReLU(),\n",
        "                            agg,\n",
        "                            )\n",
        "        if n_mid == 0:\n",
        "            self.mdl_bag = LogisticRegression(n_inst, n_out)\n",
        "        else:\n",
        "            self.mdl_bag = NN(n_inst, n_mid, n_out, dropout=dropout)\n",
        "        \n",
        "    def forward(self, bag_feature):\n",
        "\n",
        "        y_pred = self.mdl_bag(bag_feature)\n",
        "        return y_pred"
      ],
      "execution_count": 97,
      "outputs": []
    },
    {
      "cell_type": "markdown",
      "metadata": {
        "id": "4rfIA22drmUJ",
        "colab_type": "text"
      },
      "source": [
        "Helper functions to plot the train and validationa losses and display the results."
      ]
    },
    {
      "cell_type": "code",
      "metadata": {
        "id": "zk2WptJN5quy",
        "colab_type": "code",
        "colab": {}
      },
      "source": [
        "import matplotlib.pyplot as plt\n",
        "\n",
        "def display_scores(p, r, f1, a, batch_size):\n",
        "  a = (np.sum(a)/batch_size)\n",
        "  # print(a)\n",
        "  print(f\"\\tAccuracy: {a:4f}\")\n",
        "  \n",
        "  # for name, scores in zip((\"precision\", \"recall\", \"F1\", \"accuracy\"), (p,r,f1,a)):\n",
        "  # for name, scores in zip((\"accuracy\"), (a)):\n",
        "  #   print(name)\n",
        "  #   print(scores)\n",
        "  #   print(f\"\\t{name.rjust(14,' ')}: {sum(scores)/batch_size:4f}\")\n",
        "\n",
        "def plot_validation(tr_loss, tes_loss):\n",
        "  epoch_count = range(1, len(tr_loss) + 1)\n",
        "\n",
        "  # Visualize loss history\n",
        "  plt.plot(epoch_count, tr_loss, 'r--')\n",
        "  plt.plot(epoch_count, tes_loss, 'b-')\n",
        "  plt.legend(['Training Loss', 'Test Loss'])\n",
        "  plt.xlabel('Epoch')\n",
        "  plt.ylabel('Loss')\n",
        "  plt.show()"
      ],
      "execution_count": 129,
      "outputs": []
    },
    {
      "cell_type": "markdown",
      "metadata": {
        "id": "J9Jr7ecBrw1l",
        "colab_type": "text"
      },
      "source": [
        "Load the MIL model, traun for 10 epochs and evaluate the model. The results are as shown below along with the plot which shows the loasses."
      ]
    },
    {
      "cell_type": "code",
      "metadata": {
        "id": "el6zJJXrw6VS",
        "colab_type": "code",
        "colab": {
          "base_uri": "https://localhost:8080/",
          "height": 374
        },
        "outputId": "c1f4aaca-b342-4cf9-f74a-bc7b548c890d"
      },
      "source": [
        "import warnings\n",
        "warnings.filterwarnings('ignore')\n",
        "lr0 = 1e-4\n",
        "\n",
        "model = MIL_NN().to(device)\n",
        "\n",
        "epochs = 10\n",
        "train_loader, val_loader = load_data(padded_train, padded_test, 1, 1)\n",
        "loss_function = torch.nn.BCELoss(reduction='mean')      \n",
        "\n",
        "\n",
        "optimizer = optim.SGD(model.parameters(), lr=lr0, momentum=0.9)\n",
        "\n",
        "losses = []\n",
        "batches = len(train_loader)\n",
        "val_batches = len(val_loader)\n",
        "t_loss = []\n",
        "v_loss = []\n",
        "\n",
        "for epoch in range(epochs):\n",
        "    total_loss = 0\n",
        "\n",
        "\n",
        "    # progress = tqdm(enumerate(train_loader), desc=\"Loss: \", total=batches)\n",
        "\n",
        "\n",
        "    model.train()\n",
        "    # for i, data in progress:\n",
        "    for i, data in enumerate(train_loader):\n",
        "        X, y = data[0].to(device), data[1].to(device)\n",
        "        X = X.reshape([1,7*512])\n",
        "        y = y.type(torch.cuda.FloatTensor)\n",
        "      \n",
        "        model.zero_grad()\n",
        "\n",
        "        outputs = model(X)                             \n",
        "        loss = loss_function(outputs, y)               \n",
        "        loss.backward()                                \n",
        "        optimizer.step()                            \n",
        "\n",
        "        \n",
        "        current_loss = loss.item()\n",
        "        total_loss += current_loss\n",
        "\n",
        "     \n",
        "        # progress.set_description(\"Loss: {:.4f}\".format(total_loss/(i+1)))\n",
        "        \n",
        "    \n",
        "    if torch.cuda.is_available():\n",
        "        torch.cuda.empty_cache()\n",
        "    \n",
        "    \n",
        "    val_losses = 0\n",
        "    precision, recall, f1, accuracy = [], [], [], []\n",
        "    \n",
        "    \n",
        "    model.eval()\n",
        "    with torch.no_grad():\n",
        "        for i, data in enumerate(val_loader):\n",
        "            X, y = data[0].to(device), data[1].to(device)\n",
        "            X = X.reshape([1,7*512])\n",
        "            y = y.type(torch.cuda.FloatTensor)\n",
        "            outputs = model(X)                        \n",
        "            prediced_classes =outputs.detach().round()\n",
        "            val_losses += loss_function(outputs, y)\n",
        "            \n",
        "            \n",
        "            for acc, metric in zip((precision, recall, f1, accuracy), \n",
        "                                   (precision_score, recall_score, f1_score, accuracy_score)):\n",
        "                acc.append(\n",
        "                    metrics_cal(metric, y.cpu(), prediced_classes.cpu())\n",
        "                )\n",
        "    t_loss.append(total_loss/batches)\n",
        "    v_loss.append(val_losses/val_batches)   \n",
        "    print(f\"Epoch {epoch+1}/{epochs}, training loss: {total_loss/batches}, validation loss: {val_losses/val_batches}\")\n",
        "    display_scores(precision, recall, f1, accuracy, val_batches)\n",
        "\n",
        "    # print_scores(accuracy, val_batches)\n",
        "    losses.append(total_loss/batches)                  \n",
        "print(f\"Training time: {time.time()-start_ts}s\")\n"
      ],
      "execution_count": 131,
      "outputs": [
        {
          "output_type": "stream",
          "text": [
            "Epoch 1/10, training loss: 0.7288772944520627, validation loss: 0.752399206161499\n",
            "\tAccuracy: 0.531667\n",
            "Epoch 2/10, training loss: 0.6815123235860041, validation loss: 0.6914316415786743\n",
            "\tAccuracy: 0.573333\n",
            "Epoch 3/10, training loss: 0.6632336030261857, validation loss: 0.6915848851203918\n",
            "\tAccuracy: 0.566667\n",
            "Epoch 4/10, training loss: 0.6548186377728624, validation loss: 0.6848378777503967\n",
            "\tAccuracy: 0.576667\n",
            "Epoch 5/10, training loss: 0.6416550201656563, validation loss: 0.7100945115089417\n",
            "\tAccuracy: 0.551667\n",
            "Epoch 6/10, training loss: 0.6323641132962491, validation loss: 0.7179750204086304\n",
            "\tAccuracy: 0.561667\n",
            "Epoch 7/10, training loss: 0.6215595753051872, validation loss: 0.7536075711250305\n",
            "\tAccuracy: 0.493333\n",
            "Epoch 8/10, training loss: 0.6122215927046325, validation loss: 0.7227935194969177\n",
            "\tAccuracy: 0.560000\n",
            "Epoch 9/10, training loss: 0.5999849742424808, validation loss: 0.7370573878288269\n",
            "\tAccuracy: 0.561667\n",
            "Epoch 10/10, training loss: 0.5944194277469069, validation loss: 0.7496514320373535\n",
            "\tAccuracy: 0.486667\n",
            "Training time: 10709.1101603508s\n"
          ],
          "name": "stdout"
        }
      ]
    },
    {
      "cell_type": "code",
      "metadata": {
        "id": "Tl9R_14xw6ZN",
        "colab_type": "code",
        "colab": {
          "base_uri": "https://localhost:8080/",
          "height": 281
        },
        "outputId": "6508e2df-865f-40fd-99a7-7bf972e1556b"
      },
      "source": [
        "plot_validation(t_loss, v_loss)"
      ],
      "execution_count": 132,
      "outputs": [
        {
          "output_type": "display_data",
          "data": {
            "image/png": "[encoded data removed]",
            "text/plain": [
              "<Figure size 432x288 with 1 Axes>"
            ]
          },
          "metadata": {
            "tags": [],
            "needs_background": "light"
          }
        }
      ]
    },
    {
      "cell_type": "markdown",
      "metadata": {
        "id": "ib8M6dJar-bu",
        "colab_type": "text"
      },
      "source": [
        "The above plot shows the train and validations losses for the MIL model. The training was performed on limited data and hence the model perfoemance is not high. "
      ]
    }
  ]
}